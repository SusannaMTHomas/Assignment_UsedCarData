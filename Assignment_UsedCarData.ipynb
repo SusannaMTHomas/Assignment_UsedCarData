{
 "cells": [
  {
   "cell_type": "markdown",
   "id": "9844545c",
   "metadata": {},
   "source": [
    "# Used Car Data Analysis"
   ]
  },
  {
   "cell_type": "code",
   "execution_count": 1,
   "id": "5e0e0740",
   "metadata": {},
   "outputs": [],
   "source": [
    "#importing required libraries\n",
    "import pandas as pd\n",
    "import numpy as np\n",
    "import seaborn as sns\n",
    "import matplotlib.pyplot as plt\n",
    "import category_encoders as ce\n",
    "\n",
    "import warnings\n",
    "warnings.filterwarnings(\"ignore\")"
   ]
  },
  {
   "cell_type": "code",
   "execution_count": 2,
   "id": "02371b0b",
   "metadata": {},
   "outputs": [],
   "source": [
    "#storing the dataset to a dataframe named 'data'\n",
    "data=pd.read_excel('UserCarData.xlsx')"
   ]
  },
  {
   "cell_type": "code",
   "execution_count": 3,
   "id": "1964e493",
   "metadata": {},
   "outputs": [
    {
     "data": {
      "text/html": [
       "<div>\n",
       "<style scoped>\n",
       "    .dataframe tbody tr th:only-of-type {\n",
       "        vertical-align: middle;\n",
       "    }\n",
       "\n",
       "    .dataframe tbody tr th {\n",
       "        vertical-align: top;\n",
       "    }\n",
       "\n",
       "    .dataframe thead th {\n",
       "        text-align: right;\n",
       "    }\n",
       "</style>\n",
       "<table border=\"1\" class=\"dataframe\">\n",
       "  <thead>\n",
       "    <tr style=\"text-align: right;\">\n",
       "      <th></th>\n",
       "      <th>Sales_ID</th>\n",
       "      <th>name</th>\n",
       "      <th>year</th>\n",
       "      <th>selling_price</th>\n",
       "      <th>km_driven</th>\n",
       "      <th>Region</th>\n",
       "      <th>State or Province</th>\n",
       "      <th>City</th>\n",
       "      <th>fuel</th>\n",
       "      <th>seller_type</th>\n",
       "      <th>transmission</th>\n",
       "      <th>owner</th>\n",
       "      <th>mileage</th>\n",
       "      <th>engine</th>\n",
       "      <th>max_power</th>\n",
       "      <th>torque</th>\n",
       "      <th>seats</th>\n",
       "      <th>sold</th>\n",
       "    </tr>\n",
       "  </thead>\n",
       "  <tbody>\n",
       "    <tr>\n",
       "      <th>0</th>\n",
       "      <td>1</td>\n",
       "      <td>Maruti Swift Dzire VDI</td>\n",
       "      <td>2014</td>\n",
       "      <td>450000</td>\n",
       "      <td>145500.0</td>\n",
       "      <td>East</td>\n",
       "      <td>District of Columbia</td>\n",
       "      <td>Washington</td>\n",
       "      <td>Diesel</td>\n",
       "      <td>Individual</td>\n",
       "      <td>Manual</td>\n",
       "      <td>First Owner</td>\n",
       "      <td>23.4 kmpl</td>\n",
       "      <td>1248 CC</td>\n",
       "      <td>74 bhp</td>\n",
       "      <td>190Nm@ 2000rpm</td>\n",
       "      <td>5</td>\n",
       "      <td>Y</td>\n",
       "    </tr>\n",
       "    <tr>\n",
       "      <th>1</th>\n",
       "      <td>2</td>\n",
       "      <td>Skoda Rapid 1.5 TDI Ambition</td>\n",
       "      <td>2014</td>\n",
       "      <td>370000</td>\n",
       "      <td>120000.0</td>\n",
       "      <td>East</td>\n",
       "      <td>New York</td>\n",
       "      <td>New York City</td>\n",
       "      <td>Diesel</td>\n",
       "      <td>Individual</td>\n",
       "      <td>Manual</td>\n",
       "      <td>Second Owner</td>\n",
       "      <td>21.14 kmpl</td>\n",
       "      <td>1498 CC</td>\n",
       "      <td>103.52 bhp</td>\n",
       "      <td>250Nm@ 1500-2500rpm</td>\n",
       "      <td>5</td>\n",
       "      <td>Y</td>\n",
       "    </tr>\n",
       "    <tr>\n",
       "      <th>2</th>\n",
       "      <td>3</td>\n",
       "      <td>Honda City 2017-2020 EXi</td>\n",
       "      <td>2006</td>\n",
       "      <td>158000</td>\n",
       "      <td>140000.0</td>\n",
       "      <td>Central</td>\n",
       "      <td>Illinois</td>\n",
       "      <td>Chicago</td>\n",
       "      <td>Petrol</td>\n",
       "      <td>Individual</td>\n",
       "      <td>Manual</td>\n",
       "      <td>Third Owner</td>\n",
       "      <td>17.7 kmpl</td>\n",
       "      <td>1497 CC</td>\n",
       "      <td>78 bhp</td>\n",
       "      <td>12.7@ 2,700(kgm@ rpm)</td>\n",
       "      <td>5</td>\n",
       "      <td>Y</td>\n",
       "    </tr>\n",
       "    <tr>\n",
       "      <th>3</th>\n",
       "      <td>4</td>\n",
       "      <td>Hyundai i20 Sportz Diesel</td>\n",
       "      <td>2010</td>\n",
       "      <td>225000</td>\n",
       "      <td>127000.0</td>\n",
       "      <td>Central</td>\n",
       "      <td>Illinois</td>\n",
       "      <td>Chicago</td>\n",
       "      <td>Diesel</td>\n",
       "      <td>Individual</td>\n",
       "      <td>Manual</td>\n",
       "      <td>First Owner</td>\n",
       "      <td>23.0 kmpl</td>\n",
       "      <td>1396 CC</td>\n",
       "      <td>90 bhp</td>\n",
       "      <td>22.4 kgm at 1750-2750rpm</td>\n",
       "      <td>5</td>\n",
       "      <td>Y</td>\n",
       "    </tr>\n",
       "    <tr>\n",
       "      <th>4</th>\n",
       "      <td>5</td>\n",
       "      <td>Maruti Swift VXI BSIII</td>\n",
       "      <td>2007</td>\n",
       "      <td>130000</td>\n",
       "      <td>120000.0</td>\n",
       "      <td>East</td>\n",
       "      <td>New York</td>\n",
       "      <td>New York City</td>\n",
       "      <td>Petrol</td>\n",
       "      <td>Individual</td>\n",
       "      <td>Manual</td>\n",
       "      <td>First Owner</td>\n",
       "      <td>16.1 kmpl</td>\n",
       "      <td>1298 CC</td>\n",
       "      <td>88.2 bhp</td>\n",
       "      <td>11.5@ 4,500(kgm@ rpm)</td>\n",
       "      <td>5</td>\n",
       "      <td>Y</td>\n",
       "    </tr>\n",
       "  </tbody>\n",
       "</table>\n",
       "</div>"
      ],
      "text/plain": [
       "   Sales_ID                          name  year  selling_price  km_driven  \\\n",
       "0         1        Maruti Swift Dzire VDI  2014         450000   145500.0   \n",
       "1         2  Skoda Rapid 1.5 TDI Ambition  2014         370000   120000.0   \n",
       "2         3      Honda City 2017-2020 EXi  2006         158000   140000.0   \n",
       "3         4     Hyundai i20 Sportz Diesel  2010         225000   127000.0   \n",
       "4         5        Maruti Swift VXI BSIII  2007         130000   120000.0   \n",
       "\n",
       "    Region     State or Province           City    fuel seller_type  \\\n",
       "0     East  District of Columbia     Washington  Diesel  Individual   \n",
       "1     East              New York  New York City  Diesel  Individual   \n",
       "2  Central              Illinois        Chicago  Petrol  Individual   \n",
       "3  Central              Illinois        Chicago  Diesel  Individual   \n",
       "4     East              New York  New York City  Petrol  Individual   \n",
       "\n",
       "  transmission         owner     mileage   engine   max_power  \\\n",
       "0       Manual   First Owner   23.4 kmpl  1248 CC      74 bhp   \n",
       "1       Manual  Second Owner  21.14 kmpl  1498 CC  103.52 bhp   \n",
       "2       Manual   Third Owner   17.7 kmpl  1497 CC      78 bhp   \n",
       "3       Manual   First Owner   23.0 kmpl  1396 CC      90 bhp   \n",
       "4       Manual   First Owner   16.1 kmpl  1298 CC    88.2 bhp   \n",
       "\n",
       "                     torque  seats sold  \n",
       "0            190Nm@ 2000rpm      5    Y  \n",
       "1       250Nm@ 1500-2500rpm      5    Y  \n",
       "2     12.7@ 2,700(kgm@ rpm)      5    Y  \n",
       "3  22.4 kgm at 1750-2750rpm      5    Y  \n",
       "4     11.5@ 4,500(kgm@ rpm)      5    Y  "
      ]
     },
     "execution_count": 3,
     "metadata": {},
     "output_type": "execute_result"
    }
   ],
   "source": [
    "#displaying the first few rows\n",
    "data.head()"
   ]
  },
  {
   "cell_type": "code",
   "execution_count": 4,
   "id": "24654122",
   "metadata": {},
   "outputs": [
    {
     "data": {
      "text/plain": [
       "(7906, 18)"
      ]
     },
     "execution_count": 4,
     "metadata": {},
     "output_type": "execute_result"
    }
   ],
   "source": [
    "data.shape"
   ]
  },
  {
   "cell_type": "markdown",
   "id": "fc2e7182",
   "metadata": {},
   "source": [
    "There are 7906 observations and 18 features in the dataset."
   ]
  },
  {
   "cell_type": "code",
   "execution_count": 5,
   "id": "c9b73798",
   "metadata": {},
   "outputs": [
    {
     "name": "stdout",
     "output_type": "stream",
     "text": [
      "<class 'pandas.core.frame.DataFrame'>\n",
      "RangeIndex: 7906 entries, 0 to 7905\n",
      "Data columns (total 18 columns):\n",
      " #   Column             Non-Null Count  Dtype  \n",
      "---  ------             --------------  -----  \n",
      " 0   Sales_ID           7906 non-null   int64  \n",
      " 1   name               7906 non-null   object \n",
      " 2   year               7906 non-null   int64  \n",
      " 3   selling_price      7906 non-null   int64  \n",
      " 4   km_driven          7904 non-null   float64\n",
      " 5   Region             7906 non-null   object \n",
      " 6   State or Province  7906 non-null   object \n",
      " 7   City               7906 non-null   object \n",
      " 8   fuel               7906 non-null   object \n",
      " 9   seller_type        7905 non-null   object \n",
      " 10  transmission       7906 non-null   object \n",
      " 11  owner              7905 non-null   object \n",
      " 12  mileage            7904 non-null   object \n",
      " 13  engine             7906 non-null   object \n",
      " 14  max_power          7904 non-null   object \n",
      " 15  torque             7906 non-null   object \n",
      " 16  seats              7906 non-null   int64  \n",
      " 17  sold               7906 non-null   object \n",
      "dtypes: float64(1), int64(4), object(13)\n",
      "memory usage: 1.1+ MB\n"
     ]
    }
   ],
   "source": [
    "data.info()"
   ]
  },
  {
   "cell_type": "code",
   "execution_count": 6,
   "id": "6bf3556a",
   "metadata": {},
   "outputs": [
    {
     "data": {
      "text/html": [
       "<div>\n",
       "<style scoped>\n",
       "    .dataframe tbody tr th:only-of-type {\n",
       "        vertical-align: middle;\n",
       "    }\n",
       "\n",
       "    .dataframe tbody tr th {\n",
       "        vertical-align: top;\n",
       "    }\n",
       "\n",
       "    .dataframe thead th {\n",
       "        text-align: right;\n",
       "    }\n",
       "</style>\n",
       "<table border=\"1\" class=\"dataframe\">\n",
       "  <thead>\n",
       "    <tr style=\"text-align: right;\">\n",
       "      <th></th>\n",
       "      <th>Sales_ID</th>\n",
       "      <th>year</th>\n",
       "      <th>selling_price</th>\n",
       "      <th>km_driven</th>\n",
       "      <th>seats</th>\n",
       "    </tr>\n",
       "  </thead>\n",
       "  <tbody>\n",
       "    <tr>\n",
       "      <th>count</th>\n",
       "      <td>7906.000000</td>\n",
       "      <td>7906.000000</td>\n",
       "      <td>7.906000e+03</td>\n",
       "      <td>7.904000e+03</td>\n",
       "      <td>7906.000000</td>\n",
       "    </tr>\n",
       "    <tr>\n",
       "      <th>mean</th>\n",
       "      <td>4070.106248</td>\n",
       "      <td>2013.983936</td>\n",
       "      <td>6.498137e+05</td>\n",
       "      <td>6.917644e+04</td>\n",
       "      <td>5.416393</td>\n",
       "    </tr>\n",
       "    <tr>\n",
       "      <th>std</th>\n",
       "      <td>2345.770159</td>\n",
       "      <td>3.863695</td>\n",
       "      <td>8.135827e+05</td>\n",
       "      <td>5.679360e+04</td>\n",
       "      <td>0.959208</td>\n",
       "    </tr>\n",
       "    <tr>\n",
       "      <th>min</th>\n",
       "      <td>1.000000</td>\n",
       "      <td>1994.000000</td>\n",
       "      <td>2.999900e+04</td>\n",
       "      <td>1.000000e+00</td>\n",
       "      <td>2.000000</td>\n",
       "    </tr>\n",
       "    <tr>\n",
       "      <th>25%</th>\n",
       "      <td>2037.250000</td>\n",
       "      <td>2012.000000</td>\n",
       "      <td>2.700000e+05</td>\n",
       "      <td>3.487500e+04</td>\n",
       "      <td>5.000000</td>\n",
       "    </tr>\n",
       "    <tr>\n",
       "      <th>50%</th>\n",
       "      <td>4076.500000</td>\n",
       "      <td>2015.000000</td>\n",
       "      <td>4.500000e+05</td>\n",
       "      <td>6.000000e+04</td>\n",
       "      <td>5.000000</td>\n",
       "    </tr>\n",
       "    <tr>\n",
       "      <th>75%</th>\n",
       "      <td>6102.000000</td>\n",
       "      <td>2017.000000</td>\n",
       "      <td>6.900000e+05</td>\n",
       "      <td>9.505000e+04</td>\n",
       "      <td>5.000000</td>\n",
       "    </tr>\n",
       "    <tr>\n",
       "      <th>max</th>\n",
       "      <td>8128.000000</td>\n",
       "      <td>2020.000000</td>\n",
       "      <td>1.000000e+07</td>\n",
       "      <td>2.360457e+06</td>\n",
       "      <td>14.000000</td>\n",
       "    </tr>\n",
       "  </tbody>\n",
       "</table>\n",
       "</div>"
      ],
      "text/plain": [
       "          Sales_ID         year  selling_price     km_driven        seats\n",
       "count  7906.000000  7906.000000   7.906000e+03  7.904000e+03  7906.000000\n",
       "mean   4070.106248  2013.983936   6.498137e+05  6.917644e+04     5.416393\n",
       "std    2345.770159     3.863695   8.135827e+05  5.679360e+04     0.959208\n",
       "min       1.000000  1994.000000   2.999900e+04  1.000000e+00     2.000000\n",
       "25%    2037.250000  2012.000000   2.700000e+05  3.487500e+04     5.000000\n",
       "50%    4076.500000  2015.000000   4.500000e+05  6.000000e+04     5.000000\n",
       "75%    6102.000000  2017.000000   6.900000e+05  9.505000e+04     5.000000\n",
       "max    8128.000000  2020.000000   1.000000e+07  2.360457e+06    14.000000"
      ]
     },
     "execution_count": 6,
     "metadata": {},
     "output_type": "execute_result"
    }
   ],
   "source": [
    "#descriptive statistics\n",
    "data.describe()"
   ]
  },
  {
   "cell_type": "code",
   "execution_count": 7,
   "id": "f82d2bcc",
   "metadata": {},
   "outputs": [
    {
     "data": {
      "text/html": [
       "<div>\n",
       "<style scoped>\n",
       "    .dataframe tbody tr th:only-of-type {\n",
       "        vertical-align: middle;\n",
       "    }\n",
       "\n",
       "    .dataframe tbody tr th {\n",
       "        vertical-align: top;\n",
       "    }\n",
       "\n",
       "    .dataframe thead th {\n",
       "        text-align: right;\n",
       "    }\n",
       "</style>\n",
       "<table border=\"1\" class=\"dataframe\">\n",
       "  <thead>\n",
       "    <tr style=\"text-align: right;\">\n",
       "      <th></th>\n",
       "      <th>name</th>\n",
       "      <th>Region</th>\n",
       "      <th>State or Province</th>\n",
       "      <th>City</th>\n",
       "      <th>fuel</th>\n",
       "      <th>seller_type</th>\n",
       "      <th>transmission</th>\n",
       "      <th>owner</th>\n",
       "      <th>mileage</th>\n",
       "      <th>engine</th>\n",
       "      <th>max_power</th>\n",
       "      <th>torque</th>\n",
       "      <th>sold</th>\n",
       "    </tr>\n",
       "  </thead>\n",
       "  <tbody>\n",
       "    <tr>\n",
       "      <th>count</th>\n",
       "      <td>7906</td>\n",
       "      <td>7906</td>\n",
       "      <td>7906</td>\n",
       "      <td>7906</td>\n",
       "      <td>7906</td>\n",
       "      <td>7905</td>\n",
       "      <td>7906</td>\n",
       "      <td>7905</td>\n",
       "      <td>7904</td>\n",
       "      <td>7906</td>\n",
       "      <td>7904</td>\n",
       "      <td>7906</td>\n",
       "      <td>7906</td>\n",
       "    </tr>\n",
       "    <tr>\n",
       "      <th>unique</th>\n",
       "      <td>1982</td>\n",
       "      <td>4</td>\n",
       "      <td>49</td>\n",
       "      <td>1310</td>\n",
       "      <td>4</td>\n",
       "      <td>3</td>\n",
       "      <td>2</td>\n",
       "      <td>5</td>\n",
       "      <td>393</td>\n",
       "      <td>121</td>\n",
       "      <td>320</td>\n",
       "      <td>441</td>\n",
       "      <td>2</td>\n",
       "    </tr>\n",
       "    <tr>\n",
       "      <th>top</th>\n",
       "      <td>Maruti Swift Dzire VDI</td>\n",
       "      <td>Central</td>\n",
       "      <td>California</td>\n",
       "      <td>New York City</td>\n",
       "      <td>Diesel</td>\n",
       "      <td>Individual</td>\n",
       "      <td>Manual</td>\n",
       "      <td>First Owner</td>\n",
       "      <td>18.9 kmpl</td>\n",
       "      <td>1248 CC</td>\n",
       "      <td>74 bhp</td>\n",
       "      <td>190Nm@ 2000rpm</td>\n",
       "      <td>N</td>\n",
       "    </tr>\n",
       "    <tr>\n",
       "      <th>freq</th>\n",
       "      <td>129</td>\n",
       "      <td>2376</td>\n",
       "      <td>901</td>\n",
       "      <td>196</td>\n",
       "      <td>4299</td>\n",
       "      <td>6563</td>\n",
       "      <td>6865</td>\n",
       "      <td>5215</td>\n",
       "      <td>225</td>\n",
       "      <td>1017</td>\n",
       "      <td>377</td>\n",
       "      <td>530</td>\n",
       "      <td>5906</td>\n",
       "    </tr>\n",
       "  </tbody>\n",
       "</table>\n",
       "</div>"
      ],
      "text/plain": [
       "                          name   Region State or Province           City  \\\n",
       "count                     7906     7906              7906           7906   \n",
       "unique                    1982        4                49           1310   \n",
       "top     Maruti Swift Dzire VDI  Central        California  New York City   \n",
       "freq                       129     2376               901            196   \n",
       "\n",
       "          fuel seller_type transmission        owner    mileage   engine  \\\n",
       "count     7906        7905         7906         7905       7904     7906   \n",
       "unique       4           3            2            5        393      121   \n",
       "top     Diesel  Individual       Manual  First Owner  18.9 kmpl  1248 CC   \n",
       "freq      4299        6563         6865         5215        225     1017   \n",
       "\n",
       "       max_power          torque  sold  \n",
       "count       7904            7906  7906  \n",
       "unique       320             441     2  \n",
       "top       74 bhp  190Nm@ 2000rpm     N  \n",
       "freq         377             530  5906  "
      ]
     },
     "execution_count": 7,
     "metadata": {},
     "output_type": "execute_result"
    }
   ],
   "source": [
    "#descriptive statistics\n",
    "data.describe(include=object)"
   ]
  },
  {
   "cell_type": "markdown",
   "id": "f7c84778",
   "metadata": {},
   "source": [
    "# 2. Do you think there is a significant difference between the carsales of manual vs Automatic transmission, How can we prove or disprove this hypothesis."
   ]
  },
  {
   "cell_type": "code",
   "execution_count": 8,
   "id": "9da29461",
   "metadata": {},
   "outputs": [
    {
     "data": {
      "image/png": "[encoded data removed]",
      "text/plain": [
       "<Figure size 1152x576 with 2 Axes>"
      ]
     },
     "metadata": {
      "needs_background": "light"
     },
     "output_type": "display_data"
    }
   ],
   "source": [
    "plt.figure(figsize=(16,8))\n",
    "plt.subplot(1, 2, 1)\n",
    "fig1=sns.countplot(x='transmission',hue='sold',data=data)\n",
    "plt.title('Car transmission type v/s Sales')\n",
    "plt.ylim(0,6000)\n",
    "plt.xlabel('Car transmission type')\n",
    "plt.ylabel('Count of cars')\n",
    "#to get the count displayed on the chart\n",
    "for p in fig1.patches:\n",
    "    fig1.annotate(round(p.get_height(),2) , (p.get_x()+0.15, p.get_height()+200))\n",
    "plt.subplot(1, 2, 2)\n",
    "fig2=sns.histplot(x = 'transmission',data = data, hue = 'sold', stat = 'percent')\n",
    "plt.title('Car transmission type v/s Percent Sales')\n",
    "plt.ylim(0,70)\n",
    "plt.xlabel('Car transmission type')\n",
    "plt.ylabel('Percenatage of cars')\n",
    "#to get the count displayed on the chart\n",
    "for p in fig2.patches:\n",
    "    fig2.annotate(round(p.get_height(),2) , (p.get_x()+0.35, p.get_height()+1))\n",
    "plt.show()"
   ]
  },
  {
   "cell_type": "markdown",
   "id": "337b2b38",
   "metadata": {},
   "source": [
    "Insights:<br>1. There is significant difference in the no. of manual cars when compared to automatic cars. Manual cars comprise around 87% of the total no. of cars.<br>2. However, the percentage of sales of automatics cars(37%) are slightly higher than manual cars(33%)."
   ]
  },
  {
   "cell_type": "markdown",
   "id": "b61704fe",
   "metadata": {},
   "source": [
    "# 5. Business Development team assumes that east region should be our primary focus for sales, do you agress with the statement or you have different opinion."
   ]
  },
  {
   "cell_type": "code",
   "execution_count": 9,
   "id": "2b3301df",
   "metadata": {},
   "outputs": [
    {
     "data": {
      "image/png": "[encoded data removed]",
      "text/plain": [
       "<Figure size 1152x576 with 2 Axes>"
      ]
     },
     "metadata": {
      "needs_background": "light"
     },
     "output_type": "display_data"
    }
   ],
   "source": [
    "plt.figure(figsize=(16,8))\n",
    "plt.subplot(1, 2, 1)\n",
    "fig1=sns.countplot(x='Region',hue='sold',data=data)\n",
    "plt.title('Region v/s Sales')\n",
    "plt.ylim(0,2500)\n",
    "plt.xlabel('Region')\n",
    "plt.ylabel('Count of cars')\n",
    "#to get the count displayed on the chart\n",
    "for p in fig1.patches:\n",
    "    fig1.annotate(round(p.get_height(),2) , (p.get_x()+0.1, p.get_height()+50))\n",
    "plt.subplot(1, 2, 2)\n",
    "fig2=sns.histplot(x = 'Region',data = data, hue = 'sold', stat = 'percent')\n",
    "plt.title('Region v/s Percent Sales')\n",
    "plt.ylim(0,30)\n",
    "plt.xlabel('Region')\n",
    "plt.ylabel('Percenatage of cars')\n",
    "#to get the count displayed on the chart\n",
    "for p in fig2.patches:\n",
    "    fig2.annotate(round(p.get_height(),2) , (p.get_x()+0.35, p.get_height()+0.5))\n",
    "plt.show()"
   ]
  },
  {
   "cell_type": "markdown",
   "id": "d0433d3d",
   "metadata": {},
   "source": [
    "Insights:<br>1. The East region has the highest percentage of sales.<br>2. The primary focus should be on the South region."
   ]
  },
  {
   "cell_type": "markdown",
   "id": "11b0ca73",
   "metadata": {},
   "source": [
    "# 4. Can you suggest the major cities in which company has to concentrate to meet the sales"
   ]
  },
  {
   "cell_type": "code",
   "execution_count": 10,
   "id": "702f3ea6",
   "metadata": {},
   "outputs": [
    {
     "data": {
      "text/html": [
       "<div>\n",
       "<style scoped>\n",
       "    .dataframe tbody tr th:only-of-type {\n",
       "        vertical-align: middle;\n",
       "    }\n",
       "\n",
       "    .dataframe tbody tr th {\n",
       "        vertical-align: top;\n",
       "    }\n",
       "\n",
       "    .dataframe thead th {\n",
       "        text-align: right;\n",
       "    }\n",
       "</style>\n",
       "<table border=\"1\" class=\"dataframe\">\n",
       "  <thead>\n",
       "    <tr style=\"text-align: right;\">\n",
       "      <th></th>\n",
       "      <th>City</th>\n",
       "      <th>no_of_cars_sold</th>\n",
       "      <th>not_sold_percent</th>\n",
       "    </tr>\n",
       "  </thead>\n",
       "  <tbody>\n",
       "    <tr>\n",
       "      <th>Springfield</th>\n",
       "      <td>26</td>\n",
       "      <td>0.0</td>\n",
       "      <td>100.0</td>\n",
       "    </tr>\n",
       "    <tr>\n",
       "      <th>Richmond</th>\n",
       "      <td>20</td>\n",
       "      <td>0.0</td>\n",
       "      <td>100.0</td>\n",
       "    </tr>\n",
       "    <tr>\n",
       "      <th>Durango</th>\n",
       "      <td>20</td>\n",
       "      <td>0.0</td>\n",
       "      <td>100.0</td>\n",
       "    </tr>\n",
       "    <tr>\n",
       "      <th>Twentynine Palms</th>\n",
       "      <td>20</td>\n",
       "      <td>0.0</td>\n",
       "      <td>100.0</td>\n",
       "    </tr>\n",
       "    <tr>\n",
       "      <th>Danville</th>\n",
       "      <td>19</td>\n",
       "      <td>0.0</td>\n",
       "      <td>100.0</td>\n",
       "    </tr>\n",
       "    <tr>\n",
       "      <th>Prior Lake</th>\n",
       "      <td>18</td>\n",
       "      <td>0.0</td>\n",
       "      <td>100.0</td>\n",
       "    </tr>\n",
       "    <tr>\n",
       "      <th>Bangor</th>\n",
       "      <td>17</td>\n",
       "      <td>0.0</td>\n",
       "      <td>100.0</td>\n",
       "    </tr>\n",
       "    <tr>\n",
       "      <th>Albuquerque</th>\n",
       "      <td>17</td>\n",
       "      <td>0.0</td>\n",
       "      <td>100.0</td>\n",
       "    </tr>\n",
       "    <tr>\n",
       "      <th>Indianapolis</th>\n",
       "      <td>17</td>\n",
       "      <td>0.0</td>\n",
       "      <td>100.0</td>\n",
       "    </tr>\n",
       "    <tr>\n",
       "      <th>Roseville</th>\n",
       "      <td>16</td>\n",
       "      <td>0.0</td>\n",
       "      <td>100.0</td>\n",
       "    </tr>\n",
       "  </tbody>\n",
       "</table>\n",
       "</div>"
      ],
      "text/plain": [
       "                  City  no_of_cars_sold  not_sold_percent\n",
       "Springfield         26              0.0             100.0\n",
       "Richmond            20              0.0             100.0\n",
       "Durango             20              0.0             100.0\n",
       "Twentynine Palms    20              0.0             100.0\n",
       "Danville            19              0.0             100.0\n",
       "Prior Lake          18              0.0             100.0\n",
       "Bangor              17              0.0             100.0\n",
       "Albuquerque         17              0.0             100.0\n",
       "Indianapolis        17              0.0             100.0\n",
       "Roseville           16              0.0             100.0"
      ]
     },
     "execution_count": 10,
     "metadata": {},
     "output_type": "execute_result"
    }
   ],
   "source": [
    "from sklearn.preprocessing import LabelEncoder\n",
    "lab_enc_state=LabelEncoder()\n",
    "lab_enc_state.fit(data['sold'])\n",
    "data['sold']=lab_enc_state.transform(data['sold'])   \n",
    "\n",
    "# to create a new dataframe with cities, no. of cars, no. of cars not sold and percentage\n",
    "data_city=pd.DataFrame(data['City'].value_counts())\n",
    "data_city_sold = data[data['sold']>0].groupby('City')[['sold']].sum()\n",
    "data_city['no_of_cars_sold']=data_city_sold['sold']\n",
    "data_city['no_of_cars_sold']=data_city['no_of_cars_sold'].fillna(0)\n",
    "data_city['not_sold_percent']=(data_city['City']-data_city['no_of_cars_sold'])*100/data_city['City']\n",
    "data_city.sort_values(by=['not_sold_percent','City'],ascending=False,inplace=True)\n",
    "data_city.head(10)"
   ]
  },
  {
   "cell_type": "markdown",
   "id": "53beee67",
   "metadata": {},
   "source": [
    "Insights:<br>1. The above cities have the highest number of unsold cars."
   ]
  },
  {
   "cell_type": "markdown",
   "id": "98a3d66d",
   "metadata": {},
   "source": [
    "# 6. Do you think there is a relationship between mileage of the car with  sold (Y/N), if so how can we prove it."
   ]
  },
  {
   "cell_type": "code",
   "execution_count": 11,
   "id": "9264691d",
   "metadata": {},
   "outputs": [],
   "source": [
    "data['mileage']=data['mileage'].str.replace('kmpl','')\n",
    "data['mileage']=data['mileage'].str.replace('km/kg','').astype(float)"
   ]
  },
  {
   "cell_type": "code",
   "execution_count": 12,
   "id": "a7ad2321",
   "metadata": {},
   "outputs": [
    {
     "name": "stdout",
     "output_type": "stream",
     "text": [
      "Correlation between Mileage and sold(Y/N) is:  -0.0293\n"
     ]
    }
   ],
   "source": [
    "corr = data['mileage'].corr(data['sold'])\n",
    "print(\"Correlation between Mileage and sold(Y/N) is: \", round(corr, 4))"
   ]
  },
  {
   "cell_type": "markdown",
   "id": "8ff67ff7",
   "metadata": {},
   "source": [
    "Insights:<br>1. From the above, it can be inferred that there exists no relationship between mileage of the car and selling status of the car(whether sold or not)."
   ]
  },
  {
   "cell_type": "markdown",
   "id": "7210711e",
   "metadata": {},
   "source": [
    "# 3. Build a predective Model for selling_price and Identify the major impacting variables. (In Python / R )"
   ]
  },
  {
   "cell_type": "markdown",
   "id": "e1b28e26",
   "metadata": {},
   "source": [
    "## 3.1 Pre-processing"
   ]
  },
  {
   "cell_type": "code",
   "execution_count": 13,
   "id": "d7e9ea2f",
   "metadata": {},
   "outputs": [
    {
     "data": {
      "text/html": [
       "<div>\n",
       "<style scoped>\n",
       "    .dataframe tbody tr th:only-of-type {\n",
       "        vertical-align: middle;\n",
       "    }\n",
       "\n",
       "    .dataframe tbody tr th {\n",
       "        vertical-align: top;\n",
       "    }\n",
       "\n",
       "    .dataframe thead th {\n",
       "        text-align: right;\n",
       "    }\n",
       "</style>\n",
       "<table border=\"1\" class=\"dataframe\">\n",
       "  <thead>\n",
       "    <tr style=\"text-align: right;\">\n",
       "      <th></th>\n",
       "      <th>Sales_ID</th>\n",
       "      <th>name</th>\n",
       "      <th>year</th>\n",
       "      <th>selling_price</th>\n",
       "      <th>km_driven</th>\n",
       "      <th>Region</th>\n",
       "      <th>State or Province</th>\n",
       "      <th>City</th>\n",
       "      <th>fuel</th>\n",
       "      <th>seller_type</th>\n",
       "      <th>transmission</th>\n",
       "      <th>owner</th>\n",
       "      <th>mileage</th>\n",
       "      <th>engine</th>\n",
       "      <th>max_power</th>\n",
       "      <th>torque</th>\n",
       "      <th>seats</th>\n",
       "      <th>sold</th>\n",
       "    </tr>\n",
       "  </thead>\n",
       "  <tbody>\n",
       "    <tr>\n",
       "      <th>0</th>\n",
       "      <td>1</td>\n",
       "      <td>Maruti Swift Dzire VDI</td>\n",
       "      <td>2014</td>\n",
       "      <td>450000</td>\n",
       "      <td>145500.0</td>\n",
       "      <td>East</td>\n",
       "      <td>District of Columbia</td>\n",
       "      <td>Washington</td>\n",
       "      <td>Diesel</td>\n",
       "      <td>Individual</td>\n",
       "      <td>Manual</td>\n",
       "      <td>First Owner</td>\n",
       "      <td>23.40</td>\n",
       "      <td>1248 CC</td>\n",
       "      <td>74 bhp</td>\n",
       "      <td>190Nm@ 2000rpm</td>\n",
       "      <td>5</td>\n",
       "      <td>1</td>\n",
       "    </tr>\n",
       "    <tr>\n",
       "      <th>1</th>\n",
       "      <td>2</td>\n",
       "      <td>Skoda Rapid 1.5 TDI Ambition</td>\n",
       "      <td>2014</td>\n",
       "      <td>370000</td>\n",
       "      <td>120000.0</td>\n",
       "      <td>East</td>\n",
       "      <td>New York</td>\n",
       "      <td>New York City</td>\n",
       "      <td>Diesel</td>\n",
       "      <td>Individual</td>\n",
       "      <td>Manual</td>\n",
       "      <td>Second Owner</td>\n",
       "      <td>21.14</td>\n",
       "      <td>1498 CC</td>\n",
       "      <td>103.52 bhp</td>\n",
       "      <td>250Nm@ 1500-2500rpm</td>\n",
       "      <td>5</td>\n",
       "      <td>1</td>\n",
       "    </tr>\n",
       "    <tr>\n",
       "      <th>2</th>\n",
       "      <td>3</td>\n",
       "      <td>Honda City 2017-2020 EXi</td>\n",
       "      <td>2006</td>\n",
       "      <td>158000</td>\n",
       "      <td>140000.0</td>\n",
       "      <td>Central</td>\n",
       "      <td>Illinois</td>\n",
       "      <td>Chicago</td>\n",
       "      <td>Petrol</td>\n",
       "      <td>Individual</td>\n",
       "      <td>Manual</td>\n",
       "      <td>Third Owner</td>\n",
       "      <td>17.70</td>\n",
       "      <td>1497 CC</td>\n",
       "      <td>78 bhp</td>\n",
       "      <td>12.7@ 2,700(kgm@ rpm)</td>\n",
       "      <td>5</td>\n",
       "      <td>1</td>\n",
       "    </tr>\n",
       "    <tr>\n",
       "      <th>3</th>\n",
       "      <td>4</td>\n",
       "      <td>Hyundai i20 Sportz Diesel</td>\n",
       "      <td>2010</td>\n",
       "      <td>225000</td>\n",
       "      <td>127000.0</td>\n",
       "      <td>Central</td>\n",
       "      <td>Illinois</td>\n",
       "      <td>Chicago</td>\n",
       "      <td>Diesel</td>\n",
       "      <td>Individual</td>\n",
       "      <td>Manual</td>\n",
       "      <td>First Owner</td>\n",
       "      <td>23.00</td>\n",
       "      <td>1396 CC</td>\n",
       "      <td>90 bhp</td>\n",
       "      <td>22.4 kgm at 1750-2750rpm</td>\n",
       "      <td>5</td>\n",
       "      <td>1</td>\n",
       "    </tr>\n",
       "    <tr>\n",
       "      <th>4</th>\n",
       "      <td>5</td>\n",
       "      <td>Maruti Swift VXI BSIII</td>\n",
       "      <td>2007</td>\n",
       "      <td>130000</td>\n",
       "      <td>120000.0</td>\n",
       "      <td>East</td>\n",
       "      <td>New York</td>\n",
       "      <td>New York City</td>\n",
       "      <td>Petrol</td>\n",
       "      <td>Individual</td>\n",
       "      <td>Manual</td>\n",
       "      <td>First Owner</td>\n",
       "      <td>16.10</td>\n",
       "      <td>1298 CC</td>\n",
       "      <td>88.2 bhp</td>\n",
       "      <td>11.5@ 4,500(kgm@ rpm)</td>\n",
       "      <td>5</td>\n",
       "      <td>1</td>\n",
       "    </tr>\n",
       "  </tbody>\n",
       "</table>\n",
       "</div>"
      ],
      "text/plain": [
       "   Sales_ID                          name  year  selling_price  km_driven  \\\n",
       "0         1        Maruti Swift Dzire VDI  2014         450000   145500.0   \n",
       "1         2  Skoda Rapid 1.5 TDI Ambition  2014         370000   120000.0   \n",
       "2         3      Honda City 2017-2020 EXi  2006         158000   140000.0   \n",
       "3         4     Hyundai i20 Sportz Diesel  2010         225000   127000.0   \n",
       "4         5        Maruti Swift VXI BSIII  2007         130000   120000.0   \n",
       "\n",
       "    Region     State or Province           City    fuel seller_type  \\\n",
       "0     East  District of Columbia     Washington  Diesel  Individual   \n",
       "1     East              New York  New York City  Diesel  Individual   \n",
       "2  Central              Illinois        Chicago  Petrol  Individual   \n",
       "3  Central              Illinois        Chicago  Diesel  Individual   \n",
       "4     East              New York  New York City  Petrol  Individual   \n",
       "\n",
       "  transmission         owner  mileage   engine   max_power  \\\n",
       "0       Manual   First Owner    23.40  1248 CC      74 bhp   \n",
       "1       Manual  Second Owner    21.14  1498 CC  103.52 bhp   \n",
       "2       Manual   Third Owner    17.70  1497 CC      78 bhp   \n",
       "3       Manual   First Owner    23.00  1396 CC      90 bhp   \n",
       "4       Manual   First Owner    16.10  1298 CC    88.2 bhp   \n",
       "\n",
       "                     torque  seats  sold  \n",
       "0            190Nm@ 2000rpm      5     1  \n",
       "1       250Nm@ 1500-2500rpm      5     1  \n",
       "2     12.7@ 2,700(kgm@ rpm)      5     1  \n",
       "3  22.4 kgm at 1750-2750rpm      5     1  \n",
       "4     11.5@ 4,500(kgm@ rpm)      5     1  "
      ]
     },
     "execution_count": 13,
     "metadata": {},
     "output_type": "execute_result"
    }
   ],
   "source": [
    "data.head()"
   ]
  },
  {
   "cell_type": "markdown",
   "id": "7acbacf8",
   "metadata": {},
   "source": [
    "### 3.1.1 Removing units from 'engine' and 'max power'"
   ]
  },
  {
   "cell_type": "code",
   "execution_count": 14,
   "id": "a12145fe",
   "metadata": {},
   "outputs": [],
   "source": [
    "data['engine']=data['engine'].str.replace('CC','').astype(float)\n",
    "data['max_power']=data['max_power'].str.replace('bhp','').astype(float)"
   ]
  },
  {
   "cell_type": "markdown",
   "id": "a811a391",
   "metadata": {},
   "source": [
    "### 3.1.2 Handling missing values "
   ]
  },
  {
   "cell_type": "code",
   "execution_count": 15,
   "id": "206f3849",
   "metadata": {},
   "outputs": [
    {
     "data": {
      "text/plain": [
       "Sales_ID             0\n",
       "name                 0\n",
       "year                 0\n",
       "selling_price        0\n",
       "km_driven            2\n",
       "Region               0\n",
       "State or Province    0\n",
       "City                 0\n",
       "fuel                 0\n",
       "seller_type          1\n",
       "transmission         0\n",
       "owner                1\n",
       "mileage              2\n",
       "engine               0\n",
       "max_power            2\n",
       "torque               0\n",
       "seats                0\n",
       "sold                 0\n",
       "dtype: int64"
      ]
     },
     "execution_count": 15,
     "metadata": {},
     "output_type": "execute_result"
    }
   ],
   "source": [
    "#to check for null values\n",
    "data.isna().sum()"
   ]
  },
  {
   "cell_type": "markdown",
   "id": "b2cd3de3",
   "metadata": {},
   "source": [
    "There are null values in the following features:<br>km_driven<br>seller_type<br>owner<br>mileage<br>max_power"
   ]
  },
  {
   "cell_type": "markdown",
   "id": "1af53d04",
   "metadata": {},
   "source": [
    "#### 3.1.2.1 Handling missing values in categorical columns"
   ]
  },
  {
   "cell_type": "code",
   "execution_count": 16,
   "id": "63a2d70b",
   "metadata": {},
   "outputs": [],
   "source": [
    "#filing the missing values with mode for categorical columns\n",
    "data['seller_type']=data['seller_type'].fillna(data['seller_type'].mode()[0])\n",
    "data['owner']=data['owner'].fillna(data['owner'].mode()[0])"
   ]
  },
  {
   "cell_type": "markdown",
   "id": "f5536331",
   "metadata": {},
   "source": [
    "#### 3.1.2.2 Handling missing values in numerical columns"
   ]
  },
  {
   "cell_type": "code",
   "execution_count": 17,
   "id": "f10fff95",
   "metadata": {},
   "outputs": [
    {
     "data": {
      "image/png": "[encoded data removed]",
      "text/plain": [
       "<Figure size 864x288 with 3 Axes>"
      ]
     },
     "metadata": {
      "needs_background": "light"
     },
     "output_type": "display_data"
    }
   ],
   "source": [
    "#plotting the histogram to check for skew\n",
    "plt.figure(figsize=(12,4))\n",
    "plt.subplot(1, 3, 1)\n",
    "plt.hist(data['km_driven'])\n",
    "plt.title('Histogram of km_driven')\n",
    "plt.xlabel('km_driven')\n",
    "plt.ylabel('Count')\n",
    "\n",
    "plt.subplot(1, 3, 2)\n",
    "plt.hist(data['mileage'])\n",
    "plt.title('Histogram of mileage')\n",
    "plt.xlabel('mileage')\n",
    "plt.ylabel('Count')\n",
    "\n",
    "plt.subplot(1, 3, 3)\n",
    "plt.hist(data['max_power'])\n",
    "plt.title('Histogram of max_power')\n",
    "plt.xlabel('max_power')\n",
    "plt.ylabel('Count')\n",
    "plt.show()"
   ]
  },
  {
   "cell_type": "code",
   "execution_count": 18,
   "id": "c09ac039",
   "metadata": {},
   "outputs": [],
   "source": [
    "#As there is a skew in the histogram, the missing values can be filled with median\n",
    "data['km_driven']=data['km_driven'].fillna(data['km_driven'].median())\n",
    "data['mileage']=data['mileage'].fillna(data['mileage'].median())\n",
    "data['max_power']=data['max_power'].fillna(data['max_power'].median())"
   ]
  },
  {
   "cell_type": "markdown",
   "id": "276a75b4",
   "metadata": {},
   "source": [
    "### 3.1.3 Handling outliers "
   ]
  },
  {
   "cell_type": "code",
   "execution_count": 19,
   "id": "66337c86",
   "metadata": {},
   "outputs": [
    {
     "data": {
      "image/png": "[encoded data removed]",
      "text/plain": [
       "<Figure size 1152x432 with 1 Axes>"
      ]
     },
     "metadata": {
      "needs_background": "light"
     },
     "output_type": "display_data"
    }
   ],
   "source": [
    "#selecting the integer datatype features\n",
    "data_int = data.select_dtypes(include=['int64','float64'])\n",
    "data_int.boxplot(figsize = (16,6))\n",
    "plt.xticks(rotation=90)\n",
    "plt.show()"
   ]
  },
  {
   "cell_type": "code",
   "execution_count": 20,
   "id": "d854b457",
   "metadata": {},
   "outputs": [],
   "source": [
    "#defining a function to handle outliers\n",
    "def outlier_check(col):\n",
    "    #calculating percentiles\n",
    "    Q1=np.percentile(data[col],25,interpolation='midpoint')\n",
    "    Q2=np.percentile(data[col],50,interpolation='midpoint')\n",
    "    Q3=np.percentile(data[col],75,interpolation='midpoint')\n",
    "    print('Q1 = ',Q1,'\\nQ2 = ',round(Q2,2),'\\nQ3 = ',Q3)\n",
    "\n",
    "    #calculating inter quartile range\n",
    "    IQR=Q3-Q1\n",
    "    print('IQR = ',round(IQR,2))\n",
    "\n",
    "    #calculating the upper and lower limit of outliers\n",
    "    low_lim=Q1-(1.5*IQR)\n",
    "    up_lim=Q3+(1.5*IQR)\n",
    "    print('Upper limit = ',round(up_lim,2),'\\nLower limit = ',low_lim)\n",
    "\n",
    "    #creating a list of outliers\n",
    "    outlier=[]\n",
    "    for x in data[col]:\n",
    "        if (x>up_lim or x<low_lim):\n",
    "            outlier.append(x)\n",
    "    print('Outliers are :',outlier)"
   ]
  },
  {
   "cell_type": "markdown",
   "id": "d624bfc2",
   "metadata": {},
   "source": [
    "#### 3.1.3.1 Handling outliers in feature 'km-driven'"
   ]
  },
  {
   "cell_type": "code",
   "execution_count": 21,
   "id": "e5533f8b",
   "metadata": {},
   "outputs": [
    {
     "name": "stdout",
     "output_type": "stream",
     "text": [
      "Q1 =  35000.0 \n",
      "Q2 =  60000.0 \n",
      "Q3 =  95000.0\n",
      "IQR =  60000.0\n",
      "Upper limit =  185000.0 \n",
      "Lower limit =  -55000.0\n",
      "Outliers are : [193000.0, 207890.0, 240000.0, 214000.0, 214000.0, 265000.0, 250000.0, 201850.0, 190000.0, 221889.0, 190000.0, 190000.0, 300000.0, 200000.0, 193623.0, 219000.0, 195000.0, 360003.0, 206000.0, 300000.0, 200000.0, 210000.0, 216000.0, 210000.0, 200000.0, 227000.0, 334000.0, 200000.0, 217000.0, 1500000.0, 202000.0, 205000.0, 188000.0, 225000.0, 300000.0, 190000.0, 375000.0, 300000.0, 189000.0, 189000.0, 255000.0, 188000.0, 380000.0, 200000.0, 270000.0, 230000.0, 300000.0, 248000.0, 218463.0, 210000.0, 220000.0, 260000.0, 240000.0, 300000.0, 186000.0, 300000.0, 210000.0, 260000.0, 200000.0, 198000.0, 217000.0, 210000.0, 2360457.0, 210000.0, 577414.0, 200000.0, 250000.0, 250000.0, 200000.0, 500000.0, 188000.0, 200000.0, 220000.0, 188000.0, 330000.0, 291000.0, 250000.0, 197000.0, 195000.0, 200000.0, 200000.0, 230000.0, 265000.0, 219000.0, 246000.0, 225000.0, 188000.0, 225000.0, 200000.0, 190000.0, 200000.0, 240000.0, 305000.0, 212000.0, 264000.0, 298000.0, 270000.0, 291977.0, 248200.0, 242000.0, 300000.0, 220000.0, 240000.0, 290000.0, 270000.0, 475000.0, 200000.0, 440000.0, 220000.0, 230000.0, 210000.0, 200400.0, 200000.0, 285000.0, 198000.0, 188000.0, 250000.0, 231438.0, 239451.0, 200000.0, 426000.0, 190000.0, 188000.0, 215000.0, 200000.0, 210000.0, 188000.0, 250000.0, 200185.0, 195000.0, 190000.0, 200000.0, 222300.0, 330000.0, 210000.0, 370000.0, 200000.0, 200000.0, 210000.0, 186000.0, 195000.0, 192000.0, 320000.0, 250000.0, 250000.0, 188000.0, 187000.0, 206000.0, 218000.0, 215000.0, 212000.0, 230000.0, 190000.0, 217000.0, 500000.0, 200000.0, 250000.0, 250000.0, 200000.0, 271000.0, 260000.0, 248119.0, 376412.0, 250000.0, 200000.0, 197000.0, 190000.0, 220000.0, 200000.0, 187000.0, 190000.0, 190000.0, 201000.0, 215000.0, 198000.0, 200000.0, 280000.0, 200000.0, 250000.0, 265000.0, 200000.0, 250000.0, 198000.0, 200000.0, 230000.0, 200000.0, 250000.0, 250000.0, 300000.0, 195000.0, 200000.0, 186388.0, 200000.0, 250000.0, 194000.0, 191000.0]\n"
     ]
    }
   ],
   "source": [
    "outlier_check('km_driven')"
   ]
  },
  {
   "cell_type": "code",
   "execution_count": 22,
   "id": "ae141414",
   "metadata": {},
   "outputs": [],
   "source": [
    "#capping high outliers with upper bound\n",
    "data['km_driven'][data['km_driven']>185000]=185000"
   ]
  },
  {
   "cell_type": "markdown",
   "id": "3b84ddb2",
   "metadata": {},
   "source": [
    "#### 3.1.3.2 Handling outliers in feature 'mileage'"
   ]
  },
  {
   "cell_type": "code",
   "execution_count": 23,
   "id": "5451a31a",
   "metadata": {},
   "outputs": [
    {
     "name": "stdout",
     "output_type": "stream",
     "text": [
      "Q1 =  16.78 \n",
      "Q2 =  19.3 \n",
      "Q3 =  22.32\n",
      "IQR =  5.54\n",
      "Upper limit =  30.63 \n",
      "Lower limit =  8.470000000000002\n",
      "Outliers are : [33.44, 42.0, 0.0, 0.0, 0.0, 0.0, 0.0, 32.52, 0.0, 0.0, 33.44, 0.0, 0.0, 32.26, 33.0, 0.0, 0.0, 0.0, 0.0, 0.0, 0.0, 0.0, 0.0, 33.44]\n"
     ]
    }
   ],
   "source": [
    "outlier_check('mileage')"
   ]
  },
  {
   "cell_type": "code",
   "execution_count": 24,
   "id": "400ed473",
   "metadata": {},
   "outputs": [],
   "source": [
    "#capping low outliers with lower bound\n",
    "data['mileage'][data['mileage']>=0]=8.47"
   ]
  },
  {
   "cell_type": "markdown",
   "id": "1d9ad1f8",
   "metadata": {},
   "source": [
    "### 3.1.4 Feature Engineering"
   ]
  },
  {
   "cell_type": "code",
   "execution_count": 25,
   "id": "fdbcf12d",
   "metadata": {},
   "outputs": [
    {
     "data": {
      "text/html": [
       "<div>\n",
       "<style scoped>\n",
       "    .dataframe tbody tr th:only-of-type {\n",
       "        vertical-align: middle;\n",
       "    }\n",
       "\n",
       "    .dataframe tbody tr th {\n",
       "        vertical-align: top;\n",
       "    }\n",
       "\n",
       "    .dataframe thead th {\n",
       "        text-align: right;\n",
       "    }\n",
       "</style>\n",
       "<table border=\"1\" class=\"dataframe\">\n",
       "  <thead>\n",
       "    <tr style=\"text-align: right;\">\n",
       "      <th></th>\n",
       "      <th>name</th>\n",
       "      <th>brand</th>\n",
       "    </tr>\n",
       "  </thead>\n",
       "  <tbody>\n",
       "    <tr>\n",
       "      <th>0</th>\n",
       "      <td>Maruti Swift Dzire VDI</td>\n",
       "      <td>Maruti</td>\n",
       "    </tr>\n",
       "    <tr>\n",
       "      <th>1</th>\n",
       "      <td>Skoda Rapid 1.5 TDI Ambition</td>\n",
       "      <td>Skoda</td>\n",
       "    </tr>\n",
       "    <tr>\n",
       "      <th>2</th>\n",
       "      <td>Honda City 2017-2020 EXi</td>\n",
       "      <td>Honda</td>\n",
       "    </tr>\n",
       "    <tr>\n",
       "      <th>3</th>\n",
       "      <td>Hyundai i20 Sportz Diesel</td>\n",
       "      <td>Hyundai</td>\n",
       "    </tr>\n",
       "    <tr>\n",
       "      <th>4</th>\n",
       "      <td>Maruti Swift VXI BSIII</td>\n",
       "      <td>Maruti</td>\n",
       "    </tr>\n",
       "  </tbody>\n",
       "</table>\n",
       "</div>"
      ],
      "text/plain": [
       "                           name    brand\n",
       "0        Maruti Swift Dzire VDI   Maruti\n",
       "1  Skoda Rapid 1.5 TDI Ambition    Skoda\n",
       "2      Honda City 2017-2020 EXi    Honda\n",
       "3     Hyundai i20 Sportz Diesel  Hyundai\n",
       "4        Maruti Swift VXI BSIII   Maruti"
      ]
     },
     "execution_count": 25,
     "metadata": {},
     "output_type": "execute_result"
    }
   ],
   "source": [
    "#extracting the brand from the car name\n",
    "data['brand'] = data.name.str.split().str.get(0)\n",
    "data[['name','brand']].head()"
   ]
  },
  {
   "cell_type": "code",
   "execution_count": 26,
   "id": "dd8628b7",
   "metadata": {},
   "outputs": [
    {
     "data": {
      "text/plain": [
       "2017    1010\n",
       "2016     856\n",
       "2018     806\n",
       "2015     775\n",
       "2013     668\n",
       "2012     621\n",
       "2014     620\n",
       "2019     583\n",
       "2011     570\n",
       "2010     375\n",
       "2009     231\n",
       "2008     201\n",
       "2007     173\n",
       "2006     102\n",
       "2005      76\n",
       "2020      74\n",
       "2004      51\n",
       "2003      37\n",
       "2002      19\n",
       "2000      15\n",
       "1999      14\n",
       "1998       9\n",
       "1997       9\n",
       "2001       6\n",
       "1994       2\n",
       "1996       2\n",
       "1995       1\n",
       "Name: year, dtype: int64"
      ]
     },
     "execution_count": 26,
     "metadata": {},
     "output_type": "execute_result"
    }
   ],
   "source": [
    "data['year'].value_counts()"
   ]
  },
  {
   "cell_type": "code",
   "execution_count": 27,
   "id": "20cdfec7",
   "metadata": {},
   "outputs": [
    {
     "data": {
      "text/plain": [
       "Phase-4    4104\n",
       "Phase-3    2479\n",
       "Phase-2    1082\n",
       "Phase-1     241\n",
       "Name: phase, dtype: int64"
      ]
     },
     "execution_count": 27,
     "metadata": {},
     "output_type": "execute_result"
    }
   ],
   "source": [
    "#creating a phase feature which groups the years to different phases\n",
    "phase = []\n",
    "for row in data['year']:\n",
    "    if row < 2006 :    phase.append('Phase-1')\n",
    "    elif row < 2011:   phase.append('Phase-2')\n",
    "    elif row < 2015:  phase.append('Phase-3')   \n",
    "    else:           phase.append('Phase-4')\n",
    "data['phase']=phase\n",
    "data['phase'].value_counts()"
   ]
  },
  {
   "cell_type": "markdown",
   "id": "f7d31201",
   "metadata": {},
   "source": [
    "### 3.1.5 Encoding"
   ]
  },
  {
   "cell_type": "code",
   "execution_count": 28,
   "id": "cc0f50f4",
   "metadata": {},
   "outputs": [
    {
     "data": {
      "text/html": [
       "<div>\n",
       "<style scoped>\n",
       "    .dataframe tbody tr th:only-of-type {\n",
       "        vertical-align: middle;\n",
       "    }\n",
       "\n",
       "    .dataframe tbody tr th {\n",
       "        vertical-align: top;\n",
       "    }\n",
       "\n",
       "    .dataframe thead th {\n",
       "        text-align: right;\n",
       "    }\n",
       "</style>\n",
       "<table border=\"1\" class=\"dataframe\">\n",
       "  <thead>\n",
       "    <tr style=\"text-align: right;\">\n",
       "      <th></th>\n",
       "      <th>name</th>\n",
       "      <th>Region</th>\n",
       "      <th>State or Province</th>\n",
       "      <th>City</th>\n",
       "      <th>fuel</th>\n",
       "      <th>seller_type</th>\n",
       "      <th>transmission</th>\n",
       "      <th>owner</th>\n",
       "      <th>torque</th>\n",
       "      <th>brand</th>\n",
       "      <th>phase</th>\n",
       "    </tr>\n",
       "  </thead>\n",
       "  <tbody>\n",
       "    <tr>\n",
       "      <th>count</th>\n",
       "      <td>7906</td>\n",
       "      <td>7906</td>\n",
       "      <td>7906</td>\n",
       "      <td>7906</td>\n",
       "      <td>7906</td>\n",
       "      <td>7906</td>\n",
       "      <td>7906</td>\n",
       "      <td>7906</td>\n",
       "      <td>7906</td>\n",
       "      <td>7906</td>\n",
       "      <td>7906</td>\n",
       "    </tr>\n",
       "    <tr>\n",
       "      <th>unique</th>\n",
       "      <td>1982</td>\n",
       "      <td>4</td>\n",
       "      <td>49</td>\n",
       "      <td>1310</td>\n",
       "      <td>4</td>\n",
       "      <td>3</td>\n",
       "      <td>2</td>\n",
       "      <td>5</td>\n",
       "      <td>441</td>\n",
       "      <td>31</td>\n",
       "      <td>4</td>\n",
       "    </tr>\n",
       "    <tr>\n",
       "      <th>top</th>\n",
       "      <td>Maruti Swift Dzire VDI</td>\n",
       "      <td>Central</td>\n",
       "      <td>California</td>\n",
       "      <td>New York City</td>\n",
       "      <td>Diesel</td>\n",
       "      <td>Individual</td>\n",
       "      <td>Manual</td>\n",
       "      <td>First Owner</td>\n",
       "      <td>190Nm@ 2000rpm</td>\n",
       "      <td>Maruti</td>\n",
       "      <td>Phase-4</td>\n",
       "    </tr>\n",
       "    <tr>\n",
       "      <th>freq</th>\n",
       "      <td>129</td>\n",
       "      <td>2376</td>\n",
       "      <td>901</td>\n",
       "      <td>196</td>\n",
       "      <td>4299</td>\n",
       "      <td>6564</td>\n",
       "      <td>6865</td>\n",
       "      <td>5216</td>\n",
       "      <td>530</td>\n",
       "      <td>2367</td>\n",
       "      <td>4104</td>\n",
       "    </tr>\n",
       "  </tbody>\n",
       "</table>\n",
       "</div>"
      ],
      "text/plain": [
       "                          name   Region State or Province           City  \\\n",
       "count                     7906     7906              7906           7906   \n",
       "unique                    1982        4                49           1310   \n",
       "top     Maruti Swift Dzire VDI  Central        California  New York City   \n",
       "freq                       129     2376               901            196   \n",
       "\n",
       "          fuel seller_type transmission        owner          torque   brand  \\\n",
       "count     7906        7906         7906         7906            7906    7906   \n",
       "unique       4           3            2            5             441      31   \n",
       "top     Diesel  Individual       Manual  First Owner  190Nm@ 2000rpm  Maruti   \n",
       "freq      4299        6564         6865         5216             530    2367   \n",
       "\n",
       "          phase  \n",
       "count      7906  \n",
       "unique        4  \n",
       "top     Phase-4  \n",
       "freq       4104  "
      ]
     },
     "execution_count": 28,
     "metadata": {},
     "output_type": "execute_result"
    }
   ],
   "source": [
    "#descriptive statistics\n",
    "data.describe(include=object)"
   ]
  },
  {
   "cell_type": "code",
   "execution_count": 29,
   "id": "3900674b",
   "metadata": {},
   "outputs": [],
   "source": [
    "#label encoding\n",
    "from sklearn.preprocessing import LabelEncoder\n",
    "lab_enc_state=LabelEncoder()\n",
    "\n",
    "for col in ['fuel','seller_type','transmission','owner','phase']:\n",
    "    lab_enc_state.fit(data[col])\n",
    "    data[col]=lab_enc_state.transform(data[col])       "
   ]
  },
  {
   "cell_type": "code",
   "execution_count": 30,
   "id": "e97b33b5",
   "metadata": {},
   "outputs": [],
   "source": [
    "#target encoding for features 'city' and 'brand' as they have large no. of values\n",
    "encoder=ce.TargetEncoder(cols=['City']) \n",
    "data['City']=encoder.fit_transform(data['City'],data['selling_price'])\n",
    "encoder=ce.TargetEncoder(cols=['brand']) \n",
    "data['brand']=encoder.fit_transform(data['brand'],data['selling_price'])"
   ]
  },
  {
   "cell_type": "code",
   "execution_count": 31,
   "id": "06be9156",
   "metadata": {},
   "outputs": [
    {
     "data": {
      "text/html": [
       "<div>\n",
       "<style scoped>\n",
       "    .dataframe tbody tr th:only-of-type {\n",
       "        vertical-align: middle;\n",
       "    }\n",
       "\n",
       "    .dataframe tbody tr th {\n",
       "        vertical-align: top;\n",
       "    }\n",
       "\n",
       "    .dataframe thead th {\n",
       "        text-align: right;\n",
       "    }\n",
       "</style>\n",
       "<table border=\"1\" class=\"dataframe\">\n",
       "  <thead>\n",
       "    <tr style=\"text-align: right;\">\n",
       "      <th></th>\n",
       "      <th>brand</th>\n",
       "      <th>City</th>\n",
       "      <th>selling_price</th>\n",
       "    </tr>\n",
       "  </thead>\n",
       "  <tbody>\n",
       "    <tr>\n",
       "      <th>0</th>\n",
       "      <td>409011.141107</td>\n",
       "      <td>595279.338235</td>\n",
       "      <td>450000</td>\n",
       "    </tr>\n",
       "    <tr>\n",
       "      <th>1</th>\n",
       "      <td>609721.115385</td>\n",
       "      <td>688987.224490</td>\n",
       "      <td>370000</td>\n",
       "    </tr>\n",
       "    <tr>\n",
       "      <th>2</th>\n",
       "      <td>596920.886266</td>\n",
       "      <td>685977.193182</td>\n",
       "      <td>158000</td>\n",
       "    </tr>\n",
       "    <tr>\n",
       "      <th>3</th>\n",
       "      <td>473280.475000</td>\n",
       "      <td>685977.193182</td>\n",
       "      <td>225000</td>\n",
       "    </tr>\n",
       "    <tr>\n",
       "      <th>4</th>\n",
       "      <td>409011.141107</td>\n",
       "      <td>688987.224490</td>\n",
       "      <td>130000</td>\n",
       "    </tr>\n",
       "  </tbody>\n",
       "</table>\n",
       "</div>"
      ],
      "text/plain": [
       "           brand           City  selling_price\n",
       "0  409011.141107  595279.338235         450000\n",
       "1  609721.115385  688987.224490         370000\n",
       "2  596920.886266  685977.193182         158000\n",
       "3  473280.475000  685977.193182         225000\n",
       "4  409011.141107  688987.224490         130000"
      ]
     },
     "execution_count": 31,
     "metadata": {},
     "output_type": "execute_result"
    }
   ],
   "source": [
    "data[['brand','City','selling_price']].head()"
   ]
  },
  {
   "cell_type": "markdown",
   "id": "dea8b990",
   "metadata": {},
   "source": [
    "### 3.1.6 Feature Reduction"
   ]
  },
  {
   "cell_type": "code",
   "execution_count": 32,
   "id": "d74ff862",
   "metadata": {},
   "outputs": [
    {
     "data": {
      "text/html": [
       "<div>\n",
       "<style scoped>\n",
       "    .dataframe tbody tr th:only-of-type {\n",
       "        vertical-align: middle;\n",
       "    }\n",
       "\n",
       "    .dataframe tbody tr th {\n",
       "        vertical-align: top;\n",
       "    }\n",
       "\n",
       "    .dataframe thead th {\n",
       "        text-align: right;\n",
       "    }\n",
       "</style>\n",
       "<table border=\"1\" class=\"dataframe\">\n",
       "  <thead>\n",
       "    <tr style=\"text-align: right;\">\n",
       "      <th></th>\n",
       "      <th>selling_price</th>\n",
       "      <th>km_driven</th>\n",
       "      <th>City</th>\n",
       "      <th>fuel</th>\n",
       "      <th>seller_type</th>\n",
       "      <th>transmission</th>\n",
       "      <th>owner</th>\n",
       "      <th>mileage</th>\n",
       "      <th>engine</th>\n",
       "      <th>max_power</th>\n",
       "      <th>seats</th>\n",
       "      <th>sold</th>\n",
       "      <th>brand</th>\n",
       "      <th>phase</th>\n",
       "    </tr>\n",
       "  </thead>\n",
       "  <tbody>\n",
       "    <tr>\n",
       "      <th>0</th>\n",
       "      <td>450000</td>\n",
       "      <td>145500.0</td>\n",
       "      <td>595279.338235</td>\n",
       "      <td>1</td>\n",
       "      <td>1</td>\n",
       "      <td>1</td>\n",
       "      <td>0</td>\n",
       "      <td>8.47</td>\n",
       "      <td>1248.0</td>\n",
       "      <td>74.00</td>\n",
       "      <td>5</td>\n",
       "      <td>1</td>\n",
       "      <td>409011.141107</td>\n",
       "      <td>2</td>\n",
       "    </tr>\n",
       "    <tr>\n",
       "      <th>1</th>\n",
       "      <td>370000</td>\n",
       "      <td>120000.0</td>\n",
       "      <td>688987.224490</td>\n",
       "      <td>1</td>\n",
       "      <td>1</td>\n",
       "      <td>1</td>\n",
       "      <td>2</td>\n",
       "      <td>8.47</td>\n",
       "      <td>1498.0</td>\n",
       "      <td>103.52</td>\n",
       "      <td>5</td>\n",
       "      <td>1</td>\n",
       "      <td>609721.115385</td>\n",
       "      <td>2</td>\n",
       "    </tr>\n",
       "    <tr>\n",
       "      <th>2</th>\n",
       "      <td>158000</td>\n",
       "      <td>140000.0</td>\n",
       "      <td>685977.193182</td>\n",
       "      <td>3</td>\n",
       "      <td>1</td>\n",
       "      <td>1</td>\n",
       "      <td>4</td>\n",
       "      <td>8.47</td>\n",
       "      <td>1497.0</td>\n",
       "      <td>78.00</td>\n",
       "      <td>5</td>\n",
       "      <td>1</td>\n",
       "      <td>596920.886266</td>\n",
       "      <td>1</td>\n",
       "    </tr>\n",
       "    <tr>\n",
       "      <th>3</th>\n",
       "      <td>225000</td>\n",
       "      <td>127000.0</td>\n",
       "      <td>685977.193182</td>\n",
       "      <td>1</td>\n",
       "      <td>1</td>\n",
       "      <td>1</td>\n",
       "      <td>0</td>\n",
       "      <td>8.47</td>\n",
       "      <td>1396.0</td>\n",
       "      <td>90.00</td>\n",
       "      <td>5</td>\n",
       "      <td>1</td>\n",
       "      <td>473280.475000</td>\n",
       "      <td>1</td>\n",
       "    </tr>\n",
       "    <tr>\n",
       "      <th>4</th>\n",
       "      <td>130000</td>\n",
       "      <td>120000.0</td>\n",
       "      <td>688987.224490</td>\n",
       "      <td>3</td>\n",
       "      <td>1</td>\n",
       "      <td>1</td>\n",
       "      <td>0</td>\n",
       "      <td>8.47</td>\n",
       "      <td>1298.0</td>\n",
       "      <td>88.20</td>\n",
       "      <td>5</td>\n",
       "      <td>1</td>\n",
       "      <td>409011.141107</td>\n",
       "      <td>1</td>\n",
       "    </tr>\n",
       "  </tbody>\n",
       "</table>\n",
       "</div>"
      ],
      "text/plain": [
       "   selling_price  km_driven           City  fuel  seller_type  transmission  \\\n",
       "0         450000   145500.0  595279.338235     1            1             1   \n",
       "1         370000   120000.0  688987.224490     1            1             1   \n",
       "2         158000   140000.0  685977.193182     3            1             1   \n",
       "3         225000   127000.0  685977.193182     1            1             1   \n",
       "4         130000   120000.0  688987.224490     3            1             1   \n",
       "\n",
       "   owner  mileage  engine  max_power  seats  sold          brand  phase  \n",
       "0      0     8.47  1248.0      74.00      5     1  409011.141107      2  \n",
       "1      2     8.47  1498.0     103.52      5     1  609721.115385      2  \n",
       "2      4     8.47  1497.0      78.00      5     1  596920.886266      1  \n",
       "3      0     8.47  1396.0      90.00      5     1  473280.475000      1  \n",
       "4      0     8.47  1298.0      88.20      5     1  409011.141107      1  "
      ]
     },
     "execution_count": 32,
     "metadata": {},
     "output_type": "execute_result"
    }
   ],
   "source": [
    "#dropping some unnecessary columns\n",
    "data.drop(['Sales_ID','name','year','Region','State or Province','torque'],axis=1,inplace=True)\n",
    "data.head()"
   ]
  },
  {
   "cell_type": "code",
   "execution_count": 33,
   "id": "cb9488de",
   "metadata": {},
   "outputs": [
    {
     "data": {
      "image/png": "[encoded data removed]",
      "text/plain": [
       "<Figure size 1440x720 with 2 Axes>"
      ]
     },
     "metadata": {
      "needs_background": "light"
     },
     "output_type": "display_data"
    }
   ],
   "source": [
    "plt.figure(figsize=(20,10))\n",
    "sns.heatmap(data.corr(),annot=True)\n",
    "plt.show()"
   ]
  },
  {
   "cell_type": "markdown",
   "id": "ac6cfabb",
   "metadata": {},
   "source": [
    "All the dependent varaiables show very less correlation. Hence, none can be deleted."
   ]
  },
  {
   "cell_type": "markdown",
   "id": "39b7daff",
   "metadata": {},
   "source": [
    "### 3.1.7 Feature Scaling"
   ]
  },
  {
   "cell_type": "code",
   "execution_count": 34,
   "id": "53710fae",
   "metadata": {},
   "outputs": [
    {
     "data": {
      "text/html": [
       "<div>\n",
       "<style scoped>\n",
       "    .dataframe tbody tr th:only-of-type {\n",
       "        vertical-align: middle;\n",
       "    }\n",
       "\n",
       "    .dataframe tbody tr th {\n",
       "        vertical-align: top;\n",
       "    }\n",
       "\n",
       "    .dataframe thead th {\n",
       "        text-align: right;\n",
       "    }\n",
       "</style>\n",
       "<table border=\"1\" class=\"dataframe\">\n",
       "  <thead>\n",
       "    <tr style=\"text-align: right;\">\n",
       "      <th></th>\n",
       "      <th>km_driven</th>\n",
       "      <th>City</th>\n",
       "      <th>fuel</th>\n",
       "      <th>seller_type</th>\n",
       "      <th>transmission</th>\n",
       "      <th>owner</th>\n",
       "      <th>mileage</th>\n",
       "      <th>engine</th>\n",
       "      <th>max_power</th>\n",
       "      <th>seats</th>\n",
       "      <th>sold</th>\n",
       "      <th>brand</th>\n",
       "      <th>phase</th>\n",
       "    </tr>\n",
       "  </thead>\n",
       "  <tbody>\n",
       "    <tr>\n",
       "      <th>count</th>\n",
       "      <td>7906.000000</td>\n",
       "      <td>7.906000e+03</td>\n",
       "      <td>7906.000000</td>\n",
       "      <td>7906.000000</td>\n",
       "      <td>7906.000000</td>\n",
       "      <td>7906.000000</td>\n",
       "      <td>7.906000e+03</td>\n",
       "      <td>7906.000000</td>\n",
       "      <td>7906.000000</td>\n",
       "      <td>7906.000000</td>\n",
       "      <td>7906.000000</td>\n",
       "      <td>7.906000e+03</td>\n",
       "      <td>7906.000000</td>\n",
       "    </tr>\n",
       "    <tr>\n",
       "      <th>mean</th>\n",
       "      <td>67472.183784</td>\n",
       "      <td>6.500087e+05</td>\n",
       "      <td>1.888313</td>\n",
       "      <td>0.889957</td>\n",
       "      <td>0.868328</td>\n",
       "      <td>0.789906</td>\n",
       "      <td>8.470000e+00</td>\n",
       "      <td>1458.708829</td>\n",
       "      <td>91.588282</td>\n",
       "      <td>5.416393</td>\n",
       "      <td>0.252972</td>\n",
       "      <td>6.498674e+05</td>\n",
       "      <td>2.321275</td>\n",
       "    </tr>\n",
       "    <tr>\n",
       "      <th>std</th>\n",
       "      <td>43026.750236</td>\n",
       "      <td>3.986565e+05</td>\n",
       "      <td>1.001478</td>\n",
       "      <td>0.397058</td>\n",
       "      <td>0.338155</td>\n",
       "      <td>1.205723</td>\n",
       "      <td>8.082935e-13</td>\n",
       "      <td>503.893057</td>\n",
       "      <td>35.746857</td>\n",
       "      <td>0.959208</td>\n",
       "      <td>0.434743</td>\n",
       "      <td>6.933166e+05</td>\n",
       "      <td>0.821437</td>\n",
       "    </tr>\n",
       "    <tr>\n",
       "      <th>min</th>\n",
       "      <td>1.000000</td>\n",
       "      <td>1.772834e+05</td>\n",
       "      <td>0.000000</td>\n",
       "      <td>0.000000</td>\n",
       "      <td>0.000000</td>\n",
       "      <td>0.000000</td>\n",
       "      <td>8.470000e+00</td>\n",
       "      <td>624.000000</td>\n",
       "      <td>32.800000</td>\n",
       "      <td>2.000000</td>\n",
       "      <td>0.000000</td>\n",
       "      <td>1.452811e+05</td>\n",
       "      <td>0.000000</td>\n",
       "    </tr>\n",
       "    <tr>\n",
       "      <th>25%</th>\n",
       "      <td>35000.000000</td>\n",
       "      <td>4.299741e+05</td>\n",
       "      <td>1.000000</td>\n",
       "      <td>1.000000</td>\n",
       "      <td>1.000000</td>\n",
       "      <td>0.000000</td>\n",
       "      <td>8.470000e+00</td>\n",
       "      <td>1197.000000</td>\n",
       "      <td>68.050000</td>\n",
       "      <td>5.000000</td>\n",
       "      <td>0.000000</td>\n",
       "      <td>4.090111e+05</td>\n",
       "      <td>2.000000</td>\n",
       "    </tr>\n",
       "    <tr>\n",
       "      <th>50%</th>\n",
       "      <td>60000.000000</td>\n",
       "      <td>5.538135e+05</td>\n",
       "      <td>1.000000</td>\n",
       "      <td>1.000000</td>\n",
       "      <td>1.000000</td>\n",
       "      <td>0.000000</td>\n",
       "      <td>8.470000e+00</td>\n",
       "      <td>1248.000000</td>\n",
       "      <td>82.000000</td>\n",
       "      <td>5.000000</td>\n",
       "      <td>0.000000</td>\n",
       "      <td>4.732805e+05</td>\n",
       "      <td>3.000000</td>\n",
       "    </tr>\n",
       "    <tr>\n",
       "      <th>75%</th>\n",
       "      <td>95000.000000</td>\n",
       "      <td>6.889872e+05</td>\n",
       "      <td>3.000000</td>\n",
       "      <td>1.000000</td>\n",
       "      <td>1.000000</td>\n",
       "      <td>2.000000</td>\n",
       "      <td>8.470000e+00</td>\n",
       "      <td>1582.000000</td>\n",
       "      <td>102.000000</td>\n",
       "      <td>5.000000</td>\n",
       "      <td>1.000000</td>\n",
       "      <td>5.969209e+05</td>\n",
       "      <td>3.000000</td>\n",
       "    </tr>\n",
       "    <tr>\n",
       "      <th>max</th>\n",
       "      <td>185000.000000</td>\n",
       "      <td>4.371345e+06</td>\n",
       "      <td>3.000000</td>\n",
       "      <td>2.000000</td>\n",
       "      <td>1.000000</td>\n",
       "      <td>4.000000</td>\n",
       "      <td>8.470000e+00</td>\n",
       "      <td>3604.000000</td>\n",
       "      <td>400.000000</td>\n",
       "      <td>14.000000</td>\n",
       "      <td>1.000000</td>\n",
       "      <td>5.150000e+06</td>\n",
       "      <td>3.000000</td>\n",
       "    </tr>\n",
       "  </tbody>\n",
       "</table>\n",
       "</div>"
      ],
      "text/plain": [
       "           km_driven          City         fuel  seller_type  transmission  \\\n",
       "count    7906.000000  7.906000e+03  7906.000000  7906.000000   7906.000000   \n",
       "mean    67472.183784  6.500087e+05     1.888313     0.889957      0.868328   \n",
       "std     43026.750236  3.986565e+05     1.001478     0.397058      0.338155   \n",
       "min         1.000000  1.772834e+05     0.000000     0.000000      0.000000   \n",
       "25%     35000.000000  4.299741e+05     1.000000     1.000000      1.000000   \n",
       "50%     60000.000000  5.538135e+05     1.000000     1.000000      1.000000   \n",
       "75%     95000.000000  6.889872e+05     3.000000     1.000000      1.000000   \n",
       "max    185000.000000  4.371345e+06     3.000000     2.000000      1.000000   \n",
       "\n",
       "             owner       mileage       engine    max_power        seats  \\\n",
       "count  7906.000000  7.906000e+03  7906.000000  7906.000000  7906.000000   \n",
       "mean      0.789906  8.470000e+00  1458.708829    91.588282     5.416393   \n",
       "std       1.205723  8.082935e-13   503.893057    35.746857     0.959208   \n",
       "min       0.000000  8.470000e+00   624.000000    32.800000     2.000000   \n",
       "25%       0.000000  8.470000e+00  1197.000000    68.050000     5.000000   \n",
       "50%       0.000000  8.470000e+00  1248.000000    82.000000     5.000000   \n",
       "75%       2.000000  8.470000e+00  1582.000000   102.000000     5.000000   \n",
       "max       4.000000  8.470000e+00  3604.000000   400.000000    14.000000   \n",
       "\n",
       "              sold         brand        phase  \n",
       "count  7906.000000  7.906000e+03  7906.000000  \n",
       "mean      0.252972  6.498674e+05     2.321275  \n",
       "std       0.434743  6.933166e+05     0.821437  \n",
       "min       0.000000  1.452811e+05     0.000000  \n",
       "25%       0.000000  4.090111e+05     2.000000  \n",
       "50%       0.000000  4.732805e+05     3.000000  \n",
       "75%       1.000000  5.969209e+05     3.000000  \n",
       "max       1.000000  5.150000e+06     3.000000  "
      ]
     },
     "execution_count": 34,
     "metadata": {},
     "output_type": "execute_result"
    }
   ],
   "source": [
    "#dependent variable is stored in y\n",
    "y=data['selling_price']\n",
    "#independent variable is stored in x\n",
    "x=data.drop(['selling_price'],axis=1) \n",
    "x.describe()"
   ]
  },
  {
   "cell_type": "code",
   "execution_count": 35,
   "id": "f11448c2",
   "metadata": {},
   "outputs": [
    {
     "data": {
      "text/html": [
       "<div>\n",
       "<style scoped>\n",
       "    .dataframe tbody tr th:only-of-type {\n",
       "        vertical-align: middle;\n",
       "    }\n",
       "\n",
       "    .dataframe tbody tr th {\n",
       "        vertical-align: top;\n",
       "    }\n",
       "\n",
       "    .dataframe thead th {\n",
       "        text-align: right;\n",
       "    }\n",
       "</style>\n",
       "<table border=\"1\" class=\"dataframe\">\n",
       "  <thead>\n",
       "    <tr style=\"text-align: right;\">\n",
       "      <th></th>\n",
       "      <th>0</th>\n",
       "      <th>1</th>\n",
       "      <th>2</th>\n",
       "      <th>3</th>\n",
       "      <th>4</th>\n",
       "      <th>5</th>\n",
       "      <th>6</th>\n",
       "      <th>7</th>\n",
       "      <th>8</th>\n",
       "      <th>9</th>\n",
       "      <th>10</th>\n",
       "      <th>11</th>\n",
       "      <th>12</th>\n",
       "    </tr>\n",
       "  </thead>\n",
       "  <tbody>\n",
       "    <tr>\n",
       "      <th>count</th>\n",
       "      <td>7906.000000</td>\n",
       "      <td>7906.000000</td>\n",
       "      <td>7906.000000</td>\n",
       "      <td>7906.000000</td>\n",
       "      <td>7906.000000</td>\n",
       "      <td>7906.000000</td>\n",
       "      <td>7906.0</td>\n",
       "      <td>7906.000000</td>\n",
       "      <td>7906.000000</td>\n",
       "      <td>7906.000000</td>\n",
       "      <td>7906.000000</td>\n",
       "      <td>7906.000000</td>\n",
       "      <td>7906.000000</td>\n",
       "    </tr>\n",
       "    <tr>\n",
       "      <th>mean</th>\n",
       "      <td>0.364711</td>\n",
       "      <td>0.112713</td>\n",
       "      <td>0.629438</td>\n",
       "      <td>0.444978</td>\n",
       "      <td>0.868328</td>\n",
       "      <td>0.197477</td>\n",
       "      <td>0.0</td>\n",
       "      <td>0.280104</td>\n",
       "      <td>0.160099</td>\n",
       "      <td>0.284699</td>\n",
       "      <td>0.252972</td>\n",
       "      <td>0.100822</td>\n",
       "      <td>0.773758</td>\n",
       "    </tr>\n",
       "    <tr>\n",
       "      <th>std</th>\n",
       "      <td>0.232578</td>\n",
       "      <td>0.095053</td>\n",
       "      <td>0.333826</td>\n",
       "      <td>0.198529</td>\n",
       "      <td>0.338155</td>\n",
       "      <td>0.301431</td>\n",
       "      <td>0.0</td>\n",
       "      <td>0.169092</td>\n",
       "      <td>0.097350</td>\n",
       "      <td>0.079934</td>\n",
       "      <td>0.434743</td>\n",
       "      <td>0.138533</td>\n",
       "      <td>0.273812</td>\n",
       "    </tr>\n",
       "    <tr>\n",
       "      <th>min</th>\n",
       "      <td>0.000000</td>\n",
       "      <td>0.000000</td>\n",
       "      <td>0.000000</td>\n",
       "      <td>0.000000</td>\n",
       "      <td>0.000000</td>\n",
       "      <td>0.000000</td>\n",
       "      <td>0.0</td>\n",
       "      <td>0.000000</td>\n",
       "      <td>0.000000</td>\n",
       "      <td>0.000000</td>\n",
       "      <td>0.000000</td>\n",
       "      <td>0.000000</td>\n",
       "      <td>0.000000</td>\n",
       "    </tr>\n",
       "    <tr>\n",
       "      <th>25%</th>\n",
       "      <td>0.189185</td>\n",
       "      <td>0.060250</td>\n",
       "      <td>0.333333</td>\n",
       "      <td>0.500000</td>\n",
       "      <td>1.000000</td>\n",
       "      <td>0.000000</td>\n",
       "      <td>0.0</td>\n",
       "      <td>0.192282</td>\n",
       "      <td>0.095997</td>\n",
       "      <td>0.250000</td>\n",
       "      <td>0.000000</td>\n",
       "      <td>0.052696</td>\n",
       "      <td>0.666667</td>\n",
       "    </tr>\n",
       "    <tr>\n",
       "      <th>50%</th>\n",
       "      <td>0.324321</td>\n",
       "      <td>0.089777</td>\n",
       "      <td>0.333333</td>\n",
       "      <td>0.500000</td>\n",
       "      <td>1.000000</td>\n",
       "      <td>0.000000</td>\n",
       "      <td>0.0</td>\n",
       "      <td>0.209396</td>\n",
       "      <td>0.133987</td>\n",
       "      <td>0.250000</td>\n",
       "      <td>0.000000</td>\n",
       "      <td>0.065538</td>\n",
       "      <td>1.000000</td>\n",
       "    </tr>\n",
       "    <tr>\n",
       "      <th>75%</th>\n",
       "      <td>0.513511</td>\n",
       "      <td>0.122007</td>\n",
       "      <td>1.000000</td>\n",
       "      <td>0.500000</td>\n",
       "      <td>1.000000</td>\n",
       "      <td>0.500000</td>\n",
       "      <td>0.0</td>\n",
       "      <td>0.321477</td>\n",
       "      <td>0.188453</td>\n",
       "      <td>0.250000</td>\n",
       "      <td>1.000000</td>\n",
       "      <td>0.090243</td>\n",
       "      <td>1.000000</td>\n",
       "    </tr>\n",
       "    <tr>\n",
       "      <th>max</th>\n",
       "      <td>1.000000</td>\n",
       "      <td>1.000000</td>\n",
       "      <td>1.000000</td>\n",
       "      <td>1.000000</td>\n",
       "      <td>1.000000</td>\n",
       "      <td>1.000000</td>\n",
       "      <td>0.0</td>\n",
       "      <td>1.000000</td>\n",
       "      <td>1.000000</td>\n",
       "      <td>1.000000</td>\n",
       "      <td>1.000000</td>\n",
       "      <td>1.000000</td>\n",
       "      <td>1.000000</td>\n",
       "    </tr>\n",
       "  </tbody>\n",
       "</table>\n",
       "</div>"
      ],
      "text/plain": [
       "                0            1            2            3            4   \\\n",
       "count  7906.000000  7906.000000  7906.000000  7906.000000  7906.000000   \n",
       "mean      0.364711     0.112713     0.629438     0.444978     0.868328   \n",
       "std       0.232578     0.095053     0.333826     0.198529     0.338155   \n",
       "min       0.000000     0.000000     0.000000     0.000000     0.000000   \n",
       "25%       0.189185     0.060250     0.333333     0.500000     1.000000   \n",
       "50%       0.324321     0.089777     0.333333     0.500000     1.000000   \n",
       "75%       0.513511     0.122007     1.000000     0.500000     1.000000   \n",
       "max       1.000000     1.000000     1.000000     1.000000     1.000000   \n",
       "\n",
       "                5       6            7            8            9   \\\n",
       "count  7906.000000  7906.0  7906.000000  7906.000000  7906.000000   \n",
       "mean      0.197477     0.0     0.280104     0.160099     0.284699   \n",
       "std       0.301431     0.0     0.169092     0.097350     0.079934   \n",
       "min       0.000000     0.0     0.000000     0.000000     0.000000   \n",
       "25%       0.000000     0.0     0.192282     0.095997     0.250000   \n",
       "50%       0.000000     0.0     0.209396     0.133987     0.250000   \n",
       "75%       0.500000     0.0     0.321477     0.188453     0.250000   \n",
       "max       1.000000     0.0     1.000000     1.000000     1.000000   \n",
       "\n",
       "                10           11           12  \n",
       "count  7906.000000  7906.000000  7906.000000  \n",
       "mean      0.252972     0.100822     0.773758  \n",
       "std       0.434743     0.138533     0.273812  \n",
       "min       0.000000     0.000000     0.000000  \n",
       "25%       0.000000     0.052696     0.666667  \n",
       "50%       0.000000     0.065538     1.000000  \n",
       "75%       1.000000     0.090243     1.000000  \n",
       "max       1.000000     1.000000     1.000000  "
      ]
     },
     "execution_count": 35,
     "metadata": {},
     "output_type": "execute_result"
    }
   ],
   "source": [
    "#min max scaling\n",
    "from sklearn import preprocessing\n",
    "min_max=preprocessing.MinMaxScaler()\n",
    "x=min_max.fit_transform(x)\n",
    "x=pd.DataFrame(x)\n",
    "x.describe()"
   ]
  },
  {
   "cell_type": "markdown",
   "id": "b90ff8c1",
   "metadata": {},
   "source": [
    "## 3.2 Modelling"
   ]
  },
  {
   "cell_type": "code",
   "execution_count": 36,
   "id": "cf8ee15f",
   "metadata": {},
   "outputs": [],
   "source": [
    "#splitting the dataset for training the model and validating\n",
    "from sklearn.model_selection import train_test_split\n",
    "x_train,x_test,y_train,y_test=train_test_split(x,y,random_state=42,test_size=0.2)"
   ]
  },
  {
   "cell_type": "markdown",
   "id": "8f23e9b7",
   "metadata": {},
   "source": [
    "### 3.2.1 Linear Regression Model"
   ]
  },
  {
   "cell_type": "code",
   "execution_count": 37,
   "id": "77067162",
   "metadata": {},
   "outputs": [],
   "source": [
    "#Linear model\n",
    "from sklearn import linear_model\n",
    "lr=linear_model.LinearRegression()\n",
    "model=lr.fit(x_train,y_train)\n",
    "predictions=model.predict(x_test)"
   ]
  },
  {
   "cell_type": "code",
   "execution_count": 38,
   "id": "8cdde999",
   "metadata": {},
   "outputs": [
    {
     "name": "stdout",
     "output_type": "stream",
     "text": [
      "RMSE of the linear regression model is  294063.851\n"
     ]
    }
   ],
   "source": [
    "from sklearn.metrics import mean_squared_error\n",
    "RMSE_lin_reg=np.sqrt(mean_squared_error(predictions,y_test))\n",
    "print('RMSE of the linear regression model is ',round(RMSE_lin_reg,3))"
   ]
  },
  {
   "cell_type": "markdown",
   "id": "14f5da37",
   "metadata": {},
   "source": [
    "### 3.2.2 Polynomial Regression Model"
   ]
  },
  {
   "cell_type": "code",
   "execution_count": 39,
   "id": "f1da7d68",
   "metadata": {},
   "outputs": [],
   "source": [
    "#polynomial regression model with degree 2\n",
    "from sklearn.preprocessing import PolynomialFeatures  \n",
    "poly_regs= PolynomialFeatures(degree= 2)\n",
    "\n",
    "#converting feature matrix into polynomial feature matrix\n",
    "x_poly= poly_regs.fit_transform(x_train)  \n",
    "poly =linear_model.LinearRegression()  \n",
    "model=poly.fit(x_train, y_train) \n",
    "predictions=model.predict(x_test)"
   ]
  },
  {
   "cell_type": "code",
   "execution_count": 40,
   "id": "a77c5f44",
   "metadata": {},
   "outputs": [
    {
     "name": "stdout",
     "output_type": "stream",
     "text": [
      "RMSE of the Polynomial regression model is  294063.851\n"
     ]
    }
   ],
   "source": [
    "RMSE_poly_reg2=np.sqrt(mean_squared_error(predictions,y_test))\n",
    "print('RMSE of the Polynomial regression model is ',round(RMSE_poly_reg2,3))"
   ]
  },
  {
   "cell_type": "code",
   "execution_count": 41,
   "id": "795a7086",
   "metadata": {},
   "outputs": [],
   "source": [
    "#polynomial regression model with degree 5\n",
    "poly_regs= PolynomialFeatures(degree= 5)  \n",
    "x_poly= poly_regs.fit_transform(x_train)  \n",
    "poly =linear_model.LinearRegression()  \n",
    "model=poly.fit(x_train, y_train) \n",
    "predictions=model.predict(x_test)"
   ]
  },
  {
   "cell_type": "code",
   "execution_count": 42,
   "id": "6b9f1ec7",
   "metadata": {},
   "outputs": [
    {
     "name": "stdout",
     "output_type": "stream",
     "text": [
      "RMSE of the linear Polynomial model is  294063.851\n"
     ]
    }
   ],
   "source": [
    "RMSE_poly_reg5=np.sqrt(mean_squared_error(predictions,y_test))\n",
    "print('RMSE of the linear Polynomial model is ',round(RMSE_poly_reg5,3))"
   ]
  },
  {
   "cell_type": "markdown",
   "id": "12157080",
   "metadata": {},
   "source": [
    "### 3.2.3 Ridge Regression Model"
   ]
  },
  {
   "cell_type": "code",
   "execution_count": 43,
   "id": "3504383e",
   "metadata": {},
   "outputs": [],
   "source": [
    "from sklearn.linear_model import Ridge\n",
    "ridge_reg = Ridge(alpha=0.016,normalize=True)\n",
    "model=ridge_reg.fit(x_train, y_train)\n",
    "predictions = model.predict(x_test)"
   ]
  },
  {
   "cell_type": "code",
   "execution_count": 44,
   "id": "4dc28ded",
   "metadata": {},
   "outputs": [
    {
     "name": "stdout",
     "output_type": "stream",
     "text": [
      "RMSE of the Ridge regression model is  295578.482\n"
     ]
    }
   ],
   "source": [
    "RMSE_ridg_reg=np.sqrt(mean_squared_error(predictions,y_test))\n",
    "print('RMSE of the Ridge regression model is ',round(RMSE_ridg_reg,3))"
   ]
  },
  {
   "cell_type": "markdown",
   "id": "89858e34",
   "metadata": {},
   "source": [
    "### 3.2.4 LASSO Regression Model"
   ]
  },
  {
   "cell_type": "code",
   "execution_count": 45,
   "id": "b4003b12",
   "metadata": {},
   "outputs": [],
   "source": [
    "from sklearn.linear_model import Lasso\n",
    "lasso = Lasso()\n",
    "model=lasso.fit(x_train, y_train)\n",
    "predictions = model.predict(x_test)"
   ]
  },
  {
   "cell_type": "code",
   "execution_count": 46,
   "id": "cff0c3c7",
   "metadata": {},
   "outputs": [
    {
     "name": "stdout",
     "output_type": "stream",
     "text": [
      "RMSE of the LASSO regression model is  294063.942\n"
     ]
    }
   ],
   "source": [
    "RMSE_lasso=np.sqrt(mean_squared_error(predictions,y_test))\n",
    "print('RMSE of the LASSO regression model is ',round(RMSE_lasso,3))"
   ]
  },
  {
   "cell_type": "markdown",
   "id": "48a580f5",
   "metadata": {},
   "source": [
    "### 3.2.5 Decision Tree"
   ]
  },
  {
   "cell_type": "code",
   "execution_count": 47,
   "id": "0e3c4bda",
   "metadata": {},
   "outputs": [],
   "source": [
    "from sklearn.tree import DecisionTreeRegressor\n",
    "dt=DecisionTreeRegressor()\n",
    "dt_model=dt.fit(x_train,y_train)\n",
    "dt_pred=dt_model.predict(x_test)"
   ]
  },
  {
   "cell_type": "code",
   "execution_count": 48,
   "id": "13b8970b",
   "metadata": {},
   "outputs": [
    {
     "name": "stdout",
     "output_type": "stream",
     "text": [
      "RMSE of the Decision Tree model is  214575.588\n"
     ]
    }
   ],
   "source": [
    "RMSE_Deci=np.sqrt(mean_squared_error(dt_pred,y_test))\n",
    "print('RMSE of the Decision Tree model is ',round(RMSE_Deci,3))"
   ]
  },
  {
   "cell_type": "markdown",
   "id": "d75ca992",
   "metadata": {},
   "source": [
    "### 3.2.6 Random Forest"
   ]
  },
  {
   "cell_type": "code",
   "execution_count": 49,
   "id": "4c07196e",
   "metadata": {},
   "outputs": [],
   "source": [
    "from sklearn.ensemble import RandomForestRegressor\n",
    "rf=RandomForestRegressor()\n",
    "rf_model=rf.fit(x_train,y_train)\n",
    "rf_pred=rf_model.predict(x_test)"
   ]
  },
  {
   "cell_type": "code",
   "execution_count": 50,
   "id": "d85336df",
   "metadata": {},
   "outputs": [
    {
     "name": "stdout",
     "output_type": "stream",
     "text": [
      "RMSE of the Random Forest model is  145780.147\n"
     ]
    }
   ],
   "source": [
    "RMSE_rf=np.sqrt(mean_squared_error(rf_pred,y_test))\n",
    "print('RMSE of the Random Forest model is ',round(RMSE_rf,3))"
   ]
  },
  {
   "cell_type": "markdown",
   "id": "0101b113",
   "metadata": {},
   "source": [
    "### 3.2.7 Gradient Boosting"
   ]
  },
  {
   "cell_type": "code",
   "execution_count": 51,
   "id": "d671927c",
   "metadata": {},
   "outputs": [],
   "source": [
    "from sklearn.ensemble import GradientBoostingRegressor\n",
    "gb=GradientBoostingRegressor()\n",
    "gb_model=gb.fit(x_train,y_train)\n",
    "gb_pred=gb_model.predict(x_test)"
   ]
  },
  {
   "cell_type": "code",
   "execution_count": 52,
   "id": "408c06be",
   "metadata": {},
   "outputs": [
    {
     "name": "stdout",
     "output_type": "stream",
     "text": [
      "RMSE of the Gradient Boosting model is  170898.24\n"
     ]
    }
   ],
   "source": [
    "RMSE_gb=np.sqrt(mean_squared_error(gb_pred,y_test))\n",
    "print('RMSE of the Gradient Boosting model is ',round(RMSE_gb,3))"
   ]
  },
  {
   "cell_type": "markdown",
   "id": "4f6cd174",
   "metadata": {},
   "source": [
    "### 3.2.8 XGBoost"
   ]
  },
  {
   "cell_type": "code",
   "execution_count": 53,
   "id": "8b8b92c2",
   "metadata": {},
   "outputs": [],
   "source": [
    "from xgboost import XGBRegressor\n",
    "xgb=XGBRegressor()\n",
    "xgb_model=xgb.fit(x_train,y_train)\n",
    "xgb_pred=xgb_model.predict(x_test)"
   ]
  },
  {
   "cell_type": "code",
   "execution_count": 54,
   "id": "81944345",
   "metadata": {},
   "outputs": [
    {
     "name": "stdout",
     "output_type": "stream",
     "text": [
      "RMSE of the XGBoost model is  143955.132\n"
     ]
    }
   ],
   "source": [
    "RMSE_xgb=np.sqrt(mean_squared_error(xgb_pred,y_test))\n",
    "print('RMSE of the XGBoost model is ',round(RMSE_xgb,3))"
   ]
  },
  {
   "cell_type": "markdown",
   "id": "105fd500",
   "metadata": {},
   "source": [
    "### 3.2.9 AdaBoost"
   ]
  },
  {
   "cell_type": "code",
   "execution_count": 55,
   "id": "62e8fc8b",
   "metadata": {},
   "outputs": [],
   "source": [
    "from sklearn.ensemble import AdaBoostRegressor\n",
    "adb=AdaBoostRegressor()\n",
    "adb_model=adb.fit(x_train,y_train)\n",
    "adb_pred=adb_model.predict(x_test)"
   ]
  },
  {
   "cell_type": "code",
   "execution_count": 56,
   "id": "20f756e7",
   "metadata": {},
   "outputs": [
    {
     "name": "stdout",
     "output_type": "stream",
     "text": [
      "RMSE of the AdaBoost model is  313496.348\n"
     ]
    }
   ],
   "source": [
    "RMSE_adb=np.sqrt(mean_squared_error(adb_pred,y_test))\n",
    "print('RMSE of the AdaBoost model is ',round(RMSE_adb,3))"
   ]
  },
  {
   "cell_type": "markdown",
   "id": "dee406ac",
   "metadata": {},
   "source": [
    "### Summary"
   ]
  },
  {
   "cell_type": "code",
   "execution_count": 57,
   "id": "c30dc4b3",
   "metadata": {},
   "outputs": [
    {
     "name": "stdout",
     "output_type": "stream",
     "text": [
      "RMSE values for different models:\n",
      "\n",
      "Linear Regression Model :  294064\n",
      "Polynomial Regression Model(Degree = 2) :  294064\n",
      "Polynomial Regression Model(Degree = 5) :  294064\n",
      "Ridge Regression Model :  295578\n",
      "Lasso Regression Model :  294064\n",
      "Decision Tree :  214576\n",
      "Random Forest :  145780\n",
      "Gradient Boost :  170898.24\n",
      "XGBoost :  143955.132\n",
      "AdaBoost :  313496.348\n"
     ]
    }
   ],
   "source": [
    "print('RMSE values for different models:\\n')\n",
    "print('Linear Regression Model : ',round(RMSE_lin_reg))\n",
    "print('Polynomial Regression Model(Degree = 2) : ',round(RMSE_poly_reg2))\n",
    "print('Polynomial Regression Model(Degree = 5) : ',round(RMSE_poly_reg5))\n",
    "print('Ridge Regression Model : ',round(RMSE_ridg_reg))\n",
    "print('Lasso Regression Model : ',round(RMSE_lasso))\n",
    "print('Decision Tree : ',round(RMSE_Deci))\n",
    "print('Random Forest : ',round(RMSE_rf))\n",
    "print('Gradient Boost : ',round(RMSE_gb,3))\n",
    "print('XGBoost : ',round(RMSE_xgb,3))\n",
    "print('AdaBoost : ',round(RMSE_adb,3))"
   ]
  },
  {
   "cell_type": "markdown",
   "id": "47bcf64c",
   "metadata": {},
   "source": [
    "XGBoost provides the least RMSE value."
   ]
  },
  {
   "cell_type": "code",
   "execution_count": 58,
   "id": "98728047",
   "metadata": {},
   "outputs": [
    {
     "data": {
      "image/png": "[encoded data removed]",
      "text/plain": [
       "<Figure size 1440x720 with 2 Axes>"
      ]
     },
     "metadata": {
      "needs_background": "light"
     },
     "output_type": "display_data"
    }
   ],
   "source": [
    "plt.figure(figsize=(20,10))\n",
    "sns.heatmap(data.corr(),annot=True)\n",
    "plt.show()"
   ]
  },
  {
   "cell_type": "markdown",
   "id": "fe7f42c8",
   "metadata": {},
   "source": [
    "The major features impacting selling price are the brand value and maximum power. Also, the city feature has a slight positive impact on the selling price of the car."
   ]
  },
  {
   "cell_type": "code",
   "execution_count": null,
   "id": "82e44332",
   "metadata": {},
   "outputs": [],
   "source": []
  }
 ],
 "metadata": {
  "kernelspec": {
   "display_name": "Python 3 (ipykernel)",
   "language": "python",
   "name": "python3"
  },
  "language_info": {
   "codemirror_mode": {
    "name": "ipython",
    "version": 3
   },
   "file_extension": ".py",
   "mimetype": "text/x-python",
   "name": "python",
   "nbconvert_exporter": "python",
   "pygments_lexer": "ipython3",
   "version": "3.9.7"
  }
 },
 "nbformat": 4,
 "nbformat_minor": 5
}
